{
  "cells": [
    {
      "cell_type": "code",
      "execution_count": 1,
      "metadata": {
        "colab": {
          "base_uri": "https://localhost:8080/"
        },
        "id": "w2-6WkiM3e3G",
        "outputId": "dca4dea2-f7ab-4c74-e7a3-6a70e1097d17"
      },
      "outputs": [
        {
          "name": "stderr",
          "output_type": "stream",
          "text": [
            "<ipython-input-1-0f111290e794>:2: FutureWarning: The error_bad_lines argument has been deprecated and will be removed in a future version. Use on_bad_lines in the future.\n",
            "\n",
            "\n",
            "  dataset = pd.read_csv('/content/drive/MyDrive/SuicideAndDepression_Detection.csv', engine = 'python',error_bad_lines=False)\n"
          ]
        }
      ],
      "source": [
        "import pandas as pd\n",
        "dataset = pd.read_csv('/content/drive/MyDrive/SuicideAndDepression_Detection.csv', engine = 'python',error_bad_lines=False)\n"
      ]
    },
    {
      "cell_type": "code",
      "execution_count": 2,
      "metadata": {
        "id": "FH4MG5c16jfL"
      },
      "outputs": [],
      "source": [
        "dataset = dataset.drop(dataset[dataset['class'] == 'SuicideWatch'].sample(frac=1).index)\n"
      ]
    },
    {
      "cell_type": "code",
      "execution_count": 3,
      "metadata": {
        "id": "MvMMFWaS7FYW"
      },
      "outputs": [],
      "source": [
        "dataset = dataset.iloc[:30000]\n"
      ]
    },
    {
      "cell_type": "code",
      "execution_count": 4,
      "metadata": {
        "colab": {
          "base_uri": "https://localhost:8080/",
          "height": 363
        },
        "id": "rKs5R0Dha7Kz",
        "outputId": "e853da80-d24e-4cff-b02c-849e62fbcc40"
      },
      "outputs": [
        {
          "data": {
            "text/html": [
              "\n",
              "  <div id=\"df-6df0242b-e64f-488c-9461-b8b68d73cbde\">\n",
              "    <div class=\"colab-df-container\">\n",
              "      <div>\n",
              "<style scoped>\n",
              "    .dataframe tbody tr th:only-of-type {\n",
              "        vertical-align: middle;\n",
              "    }\n",
              "\n",
              "    .dataframe tbody tr th {\n",
              "        vertical-align: top;\n",
              "    }\n",
              "\n",
              "    .dataframe thead th {\n",
              "        text-align: right;\n",
              "    }\n",
              "</style>\n",
              "<table border=\"1\" class=\"dataframe\">\n",
              "  <thead>\n",
              "    <tr style=\"text-align: right;\">\n",
              "      <th></th>\n",
              "      <th>text</th>\n",
              "      <th>class</th>\n",
              "      <th>labels</th>\n",
              "    </tr>\n",
              "  </thead>\n",
              "  <tbody>\n",
              "    <tr>\n",
              "      <th>0</th>\n",
              "      <td>Does life actually work for most / non-depress...</td>\n",
              "      <td>depression</td>\n",
              "      <td>1.0</td>\n",
              "    </tr>\n",
              "    <tr>\n",
              "      <th>1</th>\n",
              "      <td>I found my friend's bodyIt was almost nine yea...</td>\n",
              "      <td>depression</td>\n",
              "      <td>1.0</td>\n",
              "    </tr>\n",
              "    <tr>\n",
              "      <th>2</th>\n",
              "      <td>Am I weird I don't get affected by compliments...</td>\n",
              "      <td>teenagers</td>\n",
              "      <td>0.0</td>\n",
              "    </tr>\n",
              "    <tr>\n",
              "      <th>3</th>\n",
              "      <td>Finally 2020 is almost over... So I can never ...</td>\n",
              "      <td>teenagers</td>\n",
              "      <td>0.0</td>\n",
              "    </tr>\n",
              "    <tr>\n",
              "      <th>4</th>\n",
              "      <td>Reddit, I've never opened up to anyone with my...</td>\n",
              "      <td>depression</td>\n",
              "      <td>1.0</td>\n",
              "    </tr>\n",
              "    <tr>\n",
              "      <th>5</th>\n",
              "      <td>Somebody help me.I just had a terrible episode...</td>\n",
              "      <td>depression</td>\n",
              "      <td>1.0</td>\n",
              "    </tr>\n",
              "    <tr>\n",
              "      <th>6</th>\n",
              "      <td>I can't do this anymoreI've hidden away all su...</td>\n",
              "      <td>depression</td>\n",
              "      <td>1.0</td>\n",
              "    </tr>\n",
              "    <tr>\n",
              "      <th>7</th>\n",
              "      <td>the bla bla bla on drugs and crappy health ins...</td>\n",
              "      <td>depression</td>\n",
              "      <td>1.0</td>\n",
              "    </tr>\n",
              "    <tr>\n",
              "      <th>8</th>\n",
              "      <td>Drank to feel better for the first timeHi.  So...</td>\n",
              "      <td>depression</td>\n",
              "      <td>1.0</td>\n",
              "    </tr>\n",
              "    <tr>\n",
              "      <th>9</th>\n",
              "      <td>The people in my life who I am closest to and ...</td>\n",
              "      <td>depression</td>\n",
              "      <td>1.0</td>\n",
              "    </tr>\n",
              "  </tbody>\n",
              "</table>\n",
              "</div>\n",
              "      <button class=\"colab-df-convert\" onclick=\"convertToInteractive('df-6df0242b-e64f-488c-9461-b8b68d73cbde')\"\n",
              "              title=\"Convert this dataframe to an interactive table.\"\n",
              "              style=\"display:none;\">\n",
              "        \n",
              "  <svg xmlns=\"http://www.w3.org/2000/svg\" height=\"24px\"viewBox=\"0 0 24 24\"\n",
              "       width=\"24px\">\n",
              "    <path d=\"M0 0h24v24H0V0z\" fill=\"none\"/>\n",
              "    <path d=\"M18.56 5.44l.94 2.06.94-2.06 2.06-.94-2.06-.94-.94-2.06-.94 2.06-2.06.94zm-11 1L8.5 8.5l.94-2.06 2.06-.94-2.06-.94L8.5 2.5l-.94 2.06-2.06.94zm10 10l.94 2.06.94-2.06 2.06-.94-2.06-.94-.94-2.06-.94 2.06-2.06.94z\"/><path d=\"M17.41 7.96l-1.37-1.37c-.4-.4-.92-.59-1.43-.59-.52 0-1.04.2-1.43.59L10.3 9.45l-7.72 7.72c-.78.78-.78 2.05 0 2.83L4 21.41c.39.39.9.59 1.41.59.51 0 1.02-.2 1.41-.59l7.78-7.78 2.81-2.81c.8-.78.8-2.07 0-2.86zM5.41 20L4 18.59l7.72-7.72 1.47 1.35L5.41 20z\"/>\n",
              "  </svg>\n",
              "      </button>\n",
              "      \n",
              "  <style>\n",
              "    .colab-df-container {\n",
              "      display:flex;\n",
              "      flex-wrap:wrap;\n",
              "      gap: 12px;\n",
              "    }\n",
              "\n",
              "    .colab-df-convert {\n",
              "      background-color: #E8F0FE;\n",
              "      border: none;\n",
              "      border-radius: 50%;\n",
              "      cursor: pointer;\n",
              "      display: none;\n",
              "      fill: #1967D2;\n",
              "      height: 32px;\n",
              "      padding: 0 0 0 0;\n",
              "      width: 32px;\n",
              "    }\n",
              "\n",
              "    .colab-df-convert:hover {\n",
              "      background-color: #E2EBFA;\n",
              "      box-shadow: 0px 1px 2px rgba(60, 64, 67, 0.3), 0px 1px 3px 1px rgba(60, 64, 67, 0.15);\n",
              "      fill: #174EA6;\n",
              "    }\n",
              "\n",
              "    [theme=dark] .colab-df-convert {\n",
              "      background-color: #3B4455;\n",
              "      fill: #D2E3FC;\n",
              "    }\n",
              "\n",
              "    [theme=dark] .colab-df-convert:hover {\n",
              "      background-color: #434B5C;\n",
              "      box-shadow: 0px 1px 3px 1px rgba(0, 0, 0, 0.15);\n",
              "      filter: drop-shadow(0px 1px 2px rgba(0, 0, 0, 0.3));\n",
              "      fill: #FFFFFF;\n",
              "    }\n",
              "  </style>\n",
              "\n",
              "      <script>\n",
              "        const buttonEl =\n",
              "          document.querySelector('#df-6df0242b-e64f-488c-9461-b8b68d73cbde button.colab-df-convert');\n",
              "        buttonEl.style.display =\n",
              "          google.colab.kernel.accessAllowed ? 'block' : 'none';\n",
              "\n",
              "        async function convertToInteractive(key) {\n",
              "          const element = document.querySelector('#df-6df0242b-e64f-488c-9461-b8b68d73cbde');\n",
              "          const dataTable =\n",
              "            await google.colab.kernel.invokeFunction('convertToInteractive',\n",
              "                                                     [key], {});\n",
              "          if (!dataTable) return;\n",
              "\n",
              "          const docLinkHtml = 'Like what you see? Visit the ' +\n",
              "            '<a target=\"_blank\" href=https://colab.research.google.com/notebooks/data_table.ipynb>data table notebook</a>'\n",
              "            + ' to learn more about interactive tables.';\n",
              "          element.innerHTML = '';\n",
              "          dataTable['output_type'] = 'display_data';\n",
              "          await google.colab.output.renderOutput(dataTable, element);\n",
              "          const docLink = document.createElement('div');\n",
              "          docLink.innerHTML = docLinkHtml;\n",
              "          element.appendChild(docLink);\n",
              "        }\n",
              "      </script>\n",
              "    </div>\n",
              "  </div>\n",
              "  "
            ],
            "text/plain": [
              "                                                text       class  labels\n",
              "0  Does life actually work for most / non-depress...  depression     1.0\n",
              "1  I found my friend's bodyIt was almost nine yea...  depression     1.0\n",
              "2  Am I weird I don't get affected by compliments...   teenagers     0.0\n",
              "3  Finally 2020 is almost over... So I can never ...   teenagers     0.0\n",
              "4  Reddit, I've never opened up to anyone with my...  depression     1.0\n",
              "5  Somebody help me.I just had a terrible episode...  depression     1.0\n",
              "6  I can't do this anymoreI've hidden away all su...  depression     1.0\n",
              "7  the bla bla bla on drugs and crappy health ins...  depression     1.0\n",
              "8  Drank to feel better for the first timeHi.  So...  depression     1.0\n",
              "9  The people in my life who I am closest to and ...  depression     1.0"
            ]
          },
          "execution_count": 4,
          "metadata": {},
          "output_type": "execute_result"
        }
      ],
      "source": [
        "dataset['labels'] = dataset['class']\n",
        "dataset['labels'].replace(['teenagers', 'depression'],\n",
        "                        [0, 1], inplace=True)\n",
        "dataset.reset_index(inplace = True, drop = True)\n",
        "dataset.head(10)"
      ]
    },
    {
      "cell_type": "code",
      "execution_count": 5,
      "metadata": {
        "colab": {
          "base_uri": "https://localhost:8080/",
          "height": 1000
        },
        "id": "OJ3_bf4V-PzM",
        "outputId": "45f97004-73db-4343-b840-9fcdb3041e00"
      },
      "outputs": [
        {
          "name": "stderr",
          "output_type": "stream",
          "text": [
            "[nltk_data] Downloading collection 'all'\n",
            "[nltk_data]    | \n",
            "[nltk_data]    | Downloading package abc to /root/nltk_data...\n",
            "[nltk_data]    |   Unzipping corpora/abc.zip.\n",
            "[nltk_data]    | Downloading package alpino to /root/nltk_data...\n",
            "[nltk_data]    |   Unzipping corpora/alpino.zip.\n",
            "[nltk_data]    | Downloading package averaged_perceptron_tagger to\n",
            "[nltk_data]    |     /root/nltk_data...\n",
            "[nltk_data]    |   Unzipping taggers/averaged_perceptron_tagger.zip.\n",
            "[nltk_data]    | Downloading package averaged_perceptron_tagger_ru to\n",
            "[nltk_data]    |     /root/nltk_data...\n",
            "[nltk_data]    |   Unzipping\n",
            "[nltk_data]    |       taggers/averaged_perceptron_tagger_ru.zip.\n",
            "[nltk_data]    | Downloading package basque_grammars to\n",
            "[nltk_data]    |     /root/nltk_data...\n",
            "[nltk_data]    |   Unzipping grammars/basque_grammars.zip.\n",
            "[nltk_data]    | Downloading package bcp47 to /root/nltk_data...\n",
            "[nltk_data]    | Downloading package biocreative_ppi to\n",
            "[nltk_data]    |     /root/nltk_data...\n",
            "[nltk_data]    |   Unzipping corpora/biocreative_ppi.zip.\n",
            "[nltk_data]    | Downloading package bllip_wsj_no_aux to\n",
            "[nltk_data]    |     /root/nltk_data...\n",
            "[nltk_data]    |   Unzipping models/bllip_wsj_no_aux.zip.\n",
            "[nltk_data]    | Downloading package book_grammars to\n",
            "[nltk_data]    |     /root/nltk_data...\n",
            "[nltk_data]    |   Unzipping grammars/book_grammars.zip.\n",
            "[nltk_data]    | Downloading package brown to /root/nltk_data...\n",
            "[nltk_data]    |   Unzipping corpora/brown.zip.\n",
            "[nltk_data]    | Downloading package brown_tei to /root/nltk_data...\n",
            "[nltk_data]    |   Unzipping corpora/brown_tei.zip.\n",
            "[nltk_data]    | Downloading package cess_cat to /root/nltk_data...\n",
            "[nltk_data]    |   Unzipping corpora/cess_cat.zip.\n",
            "[nltk_data]    | Downloading package cess_esp to /root/nltk_data...\n",
            "[nltk_data]    |   Unzipping corpora/cess_esp.zip.\n",
            "[nltk_data]    | Downloading package chat80 to /root/nltk_data...\n",
            "[nltk_data]    |   Unzipping corpora/chat80.zip.\n",
            "[nltk_data]    | Downloading package city_database to\n",
            "[nltk_data]    |     /root/nltk_data...\n",
            "[nltk_data]    |   Unzipping corpora/city_database.zip.\n",
            "[nltk_data]    | Downloading package cmudict to /root/nltk_data...\n",
            "[nltk_data]    |   Unzipping corpora/cmudict.zip.\n",
            "[nltk_data]    | Downloading package comparative_sentences to\n",
            "[nltk_data]    |     /root/nltk_data...\n",
            "[nltk_data]    |   Unzipping corpora/comparative_sentences.zip.\n",
            "[nltk_data]    | Downloading package comtrans to /root/nltk_data...\n",
            "[nltk_data]    | Downloading package conll2000 to /root/nltk_data...\n",
            "[nltk_data]    |   Unzipping corpora/conll2000.zip.\n",
            "[nltk_data]    | Downloading package conll2002 to /root/nltk_data...\n",
            "[nltk_data]    |   Unzipping corpora/conll2002.zip.\n",
            "[nltk_data]    | Downloading package conll2007 to /root/nltk_data...\n",
            "[nltk_data]    | Downloading package crubadan to /root/nltk_data...\n",
            "[nltk_data]    |   Unzipping corpora/crubadan.zip.\n",
            "[nltk_data]    | Downloading package dependency_treebank to\n",
            "[nltk_data]    |     /root/nltk_data...\n",
            "[nltk_data]    |   Unzipping corpora/dependency_treebank.zip.\n",
            "[nltk_data]    | Downloading package dolch to /root/nltk_data...\n",
            "[nltk_data]    |   Unzipping corpora/dolch.zip.\n",
            "[nltk_data]    | Downloading package europarl_raw to\n",
            "[nltk_data]    |     /root/nltk_data...\n",
            "[nltk_data]    |   Unzipping corpora/europarl_raw.zip.\n",
            "[nltk_data]    | Downloading package extended_omw to\n",
            "[nltk_data]    |     /root/nltk_data...\n",
            "[nltk_data]    | Downloading package floresta to /root/nltk_data...\n",
            "[nltk_data]    |   Unzipping corpora/floresta.zip.\n",
            "[nltk_data]    | Downloading package framenet_v15 to\n",
            "[nltk_data]    |     /root/nltk_data...\n",
            "[nltk_data]    |   Unzipping corpora/framenet_v15.zip.\n",
            "[nltk_data]    | Downloading package framenet_v17 to\n",
            "[nltk_data]    |     /root/nltk_data...\n",
            "[nltk_data]    |   Unzipping corpora/framenet_v17.zip.\n",
            "[nltk_data]    | Downloading package gazetteers to /root/nltk_data...\n",
            "[nltk_data]    |   Unzipping corpora/gazetteers.zip.\n",
            "[nltk_data]    | Downloading package genesis to /root/nltk_data...\n",
            "[nltk_data]    |   Unzipping corpora/genesis.zip.\n",
            "[nltk_data]    | Downloading package gutenberg to /root/nltk_data...\n",
            "[nltk_data]    |   Unzipping corpora/gutenberg.zip.\n",
            "[nltk_data]    | Downloading package ieer to /root/nltk_data...\n",
            "[nltk_data]    |   Unzipping corpora/ieer.zip.\n",
            "[nltk_data]    | Downloading package inaugural to /root/nltk_data...\n",
            "[nltk_data]    |   Unzipping corpora/inaugural.zip.\n",
            "[nltk_data]    | Downloading package indian to /root/nltk_data...\n",
            "[nltk_data]    |   Unzipping corpora/indian.zip.\n",
            "[nltk_data]    | Downloading package jeita to /root/nltk_data...\n",
            "[nltk_data]    | Downloading package kimmo to /root/nltk_data...\n",
            "[nltk_data]    |   Unzipping corpora/kimmo.zip.\n",
            "[nltk_data]    | Downloading package knbc to /root/nltk_data...\n",
            "[nltk_data]    | Downloading package large_grammars to\n",
            "[nltk_data]    |     /root/nltk_data...\n",
            "[nltk_data]    |   Unzipping grammars/large_grammars.zip.\n",
            "[nltk_data]    | Downloading package lin_thesaurus to\n",
            "[nltk_data]    |     /root/nltk_data...\n",
            "[nltk_data]    |   Unzipping corpora/lin_thesaurus.zip.\n",
            "[nltk_data]    | Downloading package mac_morpho to /root/nltk_data...\n",
            "[nltk_data]    |   Unzipping corpora/mac_morpho.zip.\n",
            "[nltk_data]    | Downloading package machado to /root/nltk_data...\n",
            "[nltk_data]    | Downloading package masc_tagged to /root/nltk_data...\n",
            "[nltk_data]    | Downloading package maxent_ne_chunker to\n",
            "[nltk_data]    |     /root/nltk_data...\n",
            "[nltk_data]    |   Unzipping chunkers/maxent_ne_chunker.zip.\n",
            "[nltk_data]    | Downloading package maxent_treebank_pos_tagger to\n",
            "[nltk_data]    |     /root/nltk_data...\n",
            "[nltk_data]    |   Unzipping taggers/maxent_treebank_pos_tagger.zip.\n",
            "[nltk_data]    | Downloading package moses_sample to\n",
            "[nltk_data]    |     /root/nltk_data...\n",
            "[nltk_data]    |   Unzipping models/moses_sample.zip.\n",
            "[nltk_data]    | Downloading package movie_reviews to\n",
            "[nltk_data]    |     /root/nltk_data...\n",
            "[nltk_data]    |   Unzipping corpora/movie_reviews.zip.\n",
            "[nltk_data]    | Downloading package mte_teip5 to /root/nltk_data...\n",
            "[nltk_data]    |   Unzipping corpora/mte_teip5.zip.\n",
            "[nltk_data]    | Downloading package mwa_ppdb to /root/nltk_data...\n",
            "[nltk_data]    |   Unzipping misc/mwa_ppdb.zip.\n",
            "[nltk_data]    | Downloading package names to /root/nltk_data...\n",
            "[nltk_data]    |   Unzipping corpora/names.zip.\n",
            "[nltk_data]    | Downloading package nombank.1.0 to /root/nltk_data...\n",
            "[nltk_data]    | Downloading package nonbreaking_prefixes to\n",
            "[nltk_data]    |     /root/nltk_data...\n",
            "[nltk_data]    |   Unzipping corpora/nonbreaking_prefixes.zip.\n",
            "[nltk_data]    | Downloading package nps_chat to /root/nltk_data...\n",
            "[nltk_data]    |   Unzipping corpora/nps_chat.zip.\n",
            "[nltk_data]    | Downloading package omw to /root/nltk_data...\n",
            "[nltk_data]    | Downloading package omw-1.4 to /root/nltk_data...\n",
            "[nltk_data]    | Downloading package opinion_lexicon to\n",
            "[nltk_data]    |     /root/nltk_data...\n",
            "[nltk_data]    |   Unzipping corpora/opinion_lexicon.zip.\n",
            "[nltk_data]    | Downloading package panlex_swadesh to\n",
            "[nltk_data]    |     /root/nltk_data...\n",
            "[nltk_data]    | Downloading package paradigms to /root/nltk_data...\n",
            "[nltk_data]    |   Unzipping corpora/paradigms.zip.\n",
            "[nltk_data]    | Downloading package pe08 to /root/nltk_data...\n",
            "[nltk_data]    |   Unzipping corpora/pe08.zip.\n",
            "[nltk_data]    | Downloading package perluniprops to\n",
            "[nltk_data]    |     /root/nltk_data...\n",
            "[nltk_data]    |   Unzipping misc/perluniprops.zip.\n",
            "[nltk_data]    | Downloading package pil to /root/nltk_data...\n",
            "[nltk_data]    |   Unzipping corpora/pil.zip.\n",
            "[nltk_data]    | Downloading package pl196x to /root/nltk_data...\n",
            "[nltk_data]    |   Unzipping corpora/pl196x.zip.\n",
            "[nltk_data]    | Downloading package porter_test to /root/nltk_data...\n",
            "[nltk_data]    |   Unzipping stemmers/porter_test.zip.\n",
            "[nltk_data]    | Downloading package ppattach to /root/nltk_data...\n",
            "[nltk_data]    |   Unzipping corpora/ppattach.zip.\n",
            "[nltk_data]    | Downloading package problem_reports to\n",
            "[nltk_data]    |     /root/nltk_data...\n",
            "[nltk_data]    |   Unzipping corpora/problem_reports.zip.\n",
            "[nltk_data]    | Downloading package product_reviews_1 to\n",
            "[nltk_data]    |     /root/nltk_data...\n",
            "[nltk_data]    |   Unzipping corpora/product_reviews_1.zip.\n",
            "[nltk_data]    | Downloading package product_reviews_2 to\n",
            "[nltk_data]    |     /root/nltk_data...\n",
            "[nltk_data]    |   Unzipping corpora/product_reviews_2.zip.\n",
            "[nltk_data]    | Downloading package propbank to /root/nltk_data...\n",
            "[nltk_data]    | Downloading package pros_cons to /root/nltk_data...\n",
            "[nltk_data]    |   Unzipping corpora/pros_cons.zip.\n",
            "[nltk_data]    | Downloading package ptb to /root/nltk_data...\n",
            "[nltk_data]    |   Unzipping corpora/ptb.zip.\n",
            "[nltk_data]    | Downloading package punkt to /root/nltk_data...\n",
            "[nltk_data]    |   Unzipping tokenizers/punkt.zip.\n",
            "[nltk_data]    | Downloading package qc to /root/nltk_data...\n",
            "[nltk_data]    |   Unzipping corpora/qc.zip.\n",
            "[nltk_data]    | Downloading package reuters to /root/nltk_data...\n",
            "[nltk_data]    | Downloading package rslp to /root/nltk_data...\n",
            "[nltk_data]    |   Unzipping stemmers/rslp.zip.\n",
            "[nltk_data]    | Downloading package rte to /root/nltk_data...\n",
            "[nltk_data]    |   Unzipping corpora/rte.zip.\n",
            "[nltk_data]    | Downloading package sample_grammars to\n",
            "[nltk_data]    |     /root/nltk_data...\n",
            "[nltk_data]    |   Unzipping grammars/sample_grammars.zip.\n",
            "[nltk_data]    | Downloading package semcor to /root/nltk_data...\n",
            "[nltk_data]    | Downloading package senseval to /root/nltk_data...\n",
            "[nltk_data]    |   Unzipping corpora/senseval.zip.\n",
            "[nltk_data]    | Downloading package sentence_polarity to\n",
            "[nltk_data]    |     /root/nltk_data...\n",
            "[nltk_data]    |   Unzipping corpora/sentence_polarity.zip.\n",
            "[nltk_data]    | Downloading package sentiwordnet to\n",
            "[nltk_data]    |     /root/nltk_data...\n",
            "[nltk_data]    |   Unzipping corpora/sentiwordnet.zip.\n",
            "[nltk_data]    | Downloading package shakespeare to /root/nltk_data...\n",
            "[nltk_data]    |   Unzipping corpora/shakespeare.zip.\n",
            "[nltk_data]    | Downloading package sinica_treebank to\n",
            "[nltk_data]    |     /root/nltk_data...\n",
            "[nltk_data]    |   Unzipping corpora/sinica_treebank.zip.\n",
            "[nltk_data]    | Downloading package smultron to /root/nltk_data...\n",
            "[nltk_data]    |   Unzipping corpora/smultron.zip.\n",
            "[nltk_data]    | Downloading package snowball_data to\n",
            "[nltk_data]    |     /root/nltk_data...\n",
            "[nltk_data]    | Downloading package spanish_grammars to\n",
            "[nltk_data]    |     /root/nltk_data...\n",
            "[nltk_data]    |   Unzipping grammars/spanish_grammars.zip.\n",
            "[nltk_data]    | Downloading package state_union to /root/nltk_data...\n",
            "[nltk_data]    |   Unzipping corpora/state_union.zip.\n",
            "[nltk_data]    | Downloading package stopwords to /root/nltk_data...\n",
            "[nltk_data]    |   Unzipping corpora/stopwords.zip.\n",
            "[nltk_data]    | Downloading package subjectivity to\n",
            "[nltk_data]    |     /root/nltk_data...\n",
            "[nltk_data]    |   Unzipping corpora/subjectivity.zip.\n",
            "[nltk_data]    | Downloading package swadesh to /root/nltk_data...\n",
            "[nltk_data]    |   Unzipping corpora/swadesh.zip.\n",
            "[nltk_data]    | Downloading package switchboard to /root/nltk_data...\n",
            "[nltk_data]    |   Unzipping corpora/switchboard.zip.\n",
            "[nltk_data]    | Downloading package tagsets to /root/nltk_data...\n",
            "[nltk_data]    |   Unzipping help/tagsets.zip.\n",
            "[nltk_data]    | Downloading package timit to /root/nltk_data...\n",
            "[nltk_data]    |   Unzipping corpora/timit.zip.\n",
            "[nltk_data]    | Downloading package toolbox to /root/nltk_data...\n",
            "[nltk_data]    |   Unzipping corpora/toolbox.zip.\n",
            "[nltk_data]    | Downloading package treebank to /root/nltk_data...\n",
            "[nltk_data]    |   Unzipping corpora/treebank.zip.\n",
            "[nltk_data]    | Downloading package twitter_samples to\n",
            "[nltk_data]    |     /root/nltk_data...\n",
            "[nltk_data]    |   Unzipping corpora/twitter_samples.zip.\n",
            "[nltk_data]    | Downloading package udhr to /root/nltk_data...\n",
            "[nltk_data]    |   Unzipping corpora/udhr.zip.\n",
            "[nltk_data]    | Downloading package udhr2 to /root/nltk_data...\n",
            "[nltk_data]    |   Unzipping corpora/udhr2.zip.\n",
            "[nltk_data]    | Downloading package unicode_samples to\n",
            "[nltk_data]    |     /root/nltk_data...\n",
            "[nltk_data]    |   Unzipping corpora/unicode_samples.zip.\n",
            "[nltk_data]    | Downloading package universal_tagset to\n",
            "[nltk_data]    |     /root/nltk_data...\n",
            "[nltk_data]    |   Unzipping taggers/universal_tagset.zip.\n",
            "[nltk_data]    | Downloading package universal_treebanks_v20 to\n",
            "[nltk_data]    |     /root/nltk_data...\n",
            "[nltk_data]    | Downloading package vader_lexicon to\n",
            "[nltk_data]    |     /root/nltk_data...\n",
            "[nltk_data]    | Downloading package verbnet to /root/nltk_data...\n",
            "[nltk_data]    |   Unzipping corpora/verbnet.zip.\n",
            "[nltk_data]    | Downloading package verbnet3 to /root/nltk_data...\n",
            "[nltk_data]    |   Unzipping corpora/verbnet3.zip.\n",
            "[nltk_data]    | Downloading package webtext to /root/nltk_data...\n",
            "[nltk_data]    |   Unzipping corpora/webtext.zip.\n",
            "[nltk_data]    | Downloading package wmt15_eval to /root/nltk_data...\n",
            "[nltk_data]    |   Unzipping models/wmt15_eval.zip.\n",
            "[nltk_data]    | Downloading package word2vec_sample to\n",
            "[nltk_data]    |     /root/nltk_data...\n",
            "[nltk_data]    |   Unzipping models/word2vec_sample.zip.\n",
            "[nltk_data]    | Downloading package wordnet to /root/nltk_data...\n",
            "[nltk_data]    | Downloading package wordnet2021 to /root/nltk_data...\n",
            "[nltk_data]    | Downloading package wordnet2022 to /root/nltk_data...\n",
            "[nltk_data]    |   Unzipping corpora/wordnet2022.zip.\n",
            "[nltk_data]    | Downloading package wordnet31 to /root/nltk_data...\n",
            "[nltk_data]    | Downloading package wordnet_ic to /root/nltk_data...\n",
            "[nltk_data]    |   Unzipping corpora/wordnet_ic.zip.\n",
            "[nltk_data]    | Downloading package words to /root/nltk_data...\n",
            "[nltk_data]    |   Unzipping corpora/words.zip.\n",
            "[nltk_data]    | Downloading package ycoe to /root/nltk_data...\n",
            "[nltk_data]    |   Unzipping corpora/ycoe.zip.\n",
            "[nltk_data]    | \n",
            "[nltk_data]  Done downloading collection all\n"
          ]
        },
        {
          "data": {
            "text/html": [
              "\n",
              "  <div id=\"df-81211885-ec62-445b-95bb-9bcd5330f0ae\">\n",
              "    <div class=\"colab-df-container\">\n",
              "      <div>\n",
              "<style scoped>\n",
              "    .dataframe tbody tr th:only-of-type {\n",
              "        vertical-align: middle;\n",
              "    }\n",
              "\n",
              "    .dataframe tbody tr th {\n",
              "        vertical-align: top;\n",
              "    }\n",
              "\n",
              "    .dataframe thead th {\n",
              "        text-align: right;\n",
              "    }\n",
              "</style>\n",
              "<table border=\"1\" class=\"dataframe\">\n",
              "  <thead>\n",
              "    <tr style=\"text-align: right;\">\n",
              "      <th></th>\n",
              "      <th>text</th>\n",
              "      <th>class</th>\n",
              "      <th>labels</th>\n",
              "      <th>clean_text</th>\n",
              "    </tr>\n",
              "  </thead>\n",
              "  <tbody>\n",
              "    <tr>\n",
              "      <th>0</th>\n",
              "      <td>Does life actually work for most / non-depress...</td>\n",
              "      <td>depression</td>\n",
              "      <td>1.0</td>\n",
              "      <td>life actual work nondepress peopleit doesnt se...</td>\n",
              "    </tr>\n",
              "    <tr>\n",
              "      <th>1</th>\n",
              "      <td>I found my friend's bodyIt was almost nine yea...</td>\n",
              "      <td>depression</td>\n",
              "      <td>1.0</td>\n",
              "      <td>found friend bodyit almost nine year ago still...</td>\n",
              "    </tr>\n",
              "    <tr>\n",
              "      <th>2</th>\n",
              "      <td>Am I weird I don't get affected by compliments...</td>\n",
              "      <td>teenagers</td>\n",
              "      <td>0.0</td>\n",
              "      <td>weird dont get affect compliment come someon k...</td>\n",
              "    </tr>\n",
              "    <tr>\n",
              "      <th>3</th>\n",
              "      <td>Finally 2020 is almost over... So I can never ...</td>\n",
              "      <td>teenagers</td>\n",
              "      <td>0.0</td>\n",
              "      <td>final 2020 almost never hear 2020 bad year eve...</td>\n",
              "    </tr>\n",
              "    <tr>\n",
              "      <th>4</th>\n",
              "      <td>Reddit, I've never opened up to anyone with my...</td>\n",
              "      <td>depression</td>\n",
              "      <td>1.0</td>\n",
              "      <td>reddit ive never open anyon life problem much ...</td>\n",
              "    </tr>\n",
              "    <tr>\n",
              "      <th>5</th>\n",
              "      <td>Somebody help me.I just had a terrible episode...</td>\n",
              "      <td>depression</td>\n",
              "      <td>1.0</td>\n",
              "      <td>somebodi help mei terribl episod tonight feel ...</td>\n",
              "    </tr>\n",
              "    <tr>\n",
              "      <th>6</th>\n",
              "      <td>I can't do this anymoreI've hidden away all su...</td>\n",
              "      <td>depression</td>\n",
              "      <td>1.0</td>\n",
              "      <td>cant anymor hidden away summer room cant even ...</td>\n",
              "    </tr>\n",
              "    <tr>\n",
              "      <th>7</th>\n",
              "      <td>the bla bla bla on drugs and crappy health ins...</td>\n",
              "      <td>depression</td>\n",
              "      <td>1.0</td>\n",
              "      <td>bla bla bla drug crappi health insur rant ill ...</td>\n",
              "    </tr>\n",
              "    <tr>\n",
              "      <th>8</th>\n",
              "      <td>Drank to feel better for the first timeHi.  So...</td>\n",
              "      <td>depression</td>\n",
              "      <td>1.0</td>\n",
              "      <td>drank feel better first timehi hope peopl know...</td>\n",
              "    </tr>\n",
              "    <tr>\n",
              "      <th>9</th>\n",
              "      <td>The people in my life who I am closest to and ...</td>\n",
              "      <td>depression</td>\n",
              "      <td>1.0</td>\n",
              "      <td>peopl life closest feel love toward suffer way...</td>\n",
              "    </tr>\n",
              "  </tbody>\n",
              "</table>\n",
              "</div>\n",
              "      <button class=\"colab-df-convert\" onclick=\"convertToInteractive('df-81211885-ec62-445b-95bb-9bcd5330f0ae')\"\n",
              "              title=\"Convert this dataframe to an interactive table.\"\n",
              "              style=\"display:none;\">\n",
              "        \n",
              "  <svg xmlns=\"http://www.w3.org/2000/svg\" height=\"24px\"viewBox=\"0 0 24 24\"\n",
              "       width=\"24px\">\n",
              "    <path d=\"M0 0h24v24H0V0z\" fill=\"none\"/>\n",
              "    <path d=\"M18.56 5.44l.94 2.06.94-2.06 2.06-.94-2.06-.94-.94-2.06-.94 2.06-2.06.94zm-11 1L8.5 8.5l.94-2.06 2.06-.94-2.06-.94L8.5 2.5l-.94 2.06-2.06.94zm10 10l.94 2.06.94-2.06 2.06-.94-2.06-.94-.94-2.06-.94 2.06-2.06.94z\"/><path d=\"M17.41 7.96l-1.37-1.37c-.4-.4-.92-.59-1.43-.59-.52 0-1.04.2-1.43.59L10.3 9.45l-7.72 7.72c-.78.78-.78 2.05 0 2.83L4 21.41c.39.39.9.59 1.41.59.51 0 1.02-.2 1.41-.59l7.78-7.78 2.81-2.81c.8-.78.8-2.07 0-2.86zM5.41 20L4 18.59l7.72-7.72 1.47 1.35L5.41 20z\"/>\n",
              "  </svg>\n",
              "      </button>\n",
              "      \n",
              "  <style>\n",
              "    .colab-df-container {\n",
              "      display:flex;\n",
              "      flex-wrap:wrap;\n",
              "      gap: 12px;\n",
              "    }\n",
              "\n",
              "    .colab-df-convert {\n",
              "      background-color: #E8F0FE;\n",
              "      border: none;\n",
              "      border-radius: 50%;\n",
              "      cursor: pointer;\n",
              "      display: none;\n",
              "      fill: #1967D2;\n",
              "      height: 32px;\n",
              "      padding: 0 0 0 0;\n",
              "      width: 32px;\n",
              "    }\n",
              "\n",
              "    .colab-df-convert:hover {\n",
              "      background-color: #E2EBFA;\n",
              "      box-shadow: 0px 1px 2px rgba(60, 64, 67, 0.3), 0px 1px 3px 1px rgba(60, 64, 67, 0.15);\n",
              "      fill: #174EA6;\n",
              "    }\n",
              "\n",
              "    [theme=dark] .colab-df-convert {\n",
              "      background-color: #3B4455;\n",
              "      fill: #D2E3FC;\n",
              "    }\n",
              "\n",
              "    [theme=dark] .colab-df-convert:hover {\n",
              "      background-color: #434B5C;\n",
              "      box-shadow: 0px 1px 3px 1px rgba(0, 0, 0, 0.15);\n",
              "      filter: drop-shadow(0px 1px 2px rgba(0, 0, 0, 0.3));\n",
              "      fill: #FFFFFF;\n",
              "    }\n",
              "  </style>\n",
              "\n",
              "      <script>\n",
              "        const buttonEl =\n",
              "          document.querySelector('#df-81211885-ec62-445b-95bb-9bcd5330f0ae button.colab-df-convert');\n",
              "        buttonEl.style.display =\n",
              "          google.colab.kernel.accessAllowed ? 'block' : 'none';\n",
              "\n",
              "        async function convertToInteractive(key) {\n",
              "          const element = document.querySelector('#df-81211885-ec62-445b-95bb-9bcd5330f0ae');\n",
              "          const dataTable =\n",
              "            await google.colab.kernel.invokeFunction('convertToInteractive',\n",
              "                                                     [key], {});\n",
              "          if (!dataTable) return;\n",
              "\n",
              "          const docLinkHtml = 'Like what you see? Visit the ' +\n",
              "            '<a target=\"_blank\" href=https://colab.research.google.com/notebooks/data_table.ipynb>data table notebook</a>'\n",
              "            + ' to learn more about interactive tables.';\n",
              "          element.innerHTML = '';\n",
              "          dataTable['output_type'] = 'display_data';\n",
              "          await google.colab.output.renderOutput(dataTable, element);\n",
              "          const docLink = document.createElement('div');\n",
              "          docLink.innerHTML = docLinkHtml;\n",
              "          element.appendChild(docLink);\n",
              "        }\n",
              "      </script>\n",
              "    </div>\n",
              "  </div>\n",
              "  "
            ],
            "text/plain": [
              "                                                text       class  labels  \\\n",
              "0  Does life actually work for most / non-depress...  depression     1.0   \n",
              "1  I found my friend's bodyIt was almost nine yea...  depression     1.0   \n",
              "2  Am I weird I don't get affected by compliments...   teenagers     0.0   \n",
              "3  Finally 2020 is almost over... So I can never ...   teenagers     0.0   \n",
              "4  Reddit, I've never opened up to anyone with my...  depression     1.0   \n",
              "5  Somebody help me.I just had a terrible episode...  depression     1.0   \n",
              "6  I can't do this anymoreI've hidden away all su...  depression     1.0   \n",
              "7  the bla bla bla on drugs and crappy health ins...  depression     1.0   \n",
              "8  Drank to feel better for the first timeHi.  So...  depression     1.0   \n",
              "9  The people in my life who I am closest to and ...  depression     1.0   \n",
              "\n",
              "                                          clean_text  \n",
              "0  life actual work nondepress peopleit doesnt se...  \n",
              "1  found friend bodyit almost nine year ago still...  \n",
              "2  weird dont get affect compliment come someon k...  \n",
              "3  final 2020 almost never hear 2020 bad year eve...  \n",
              "4  reddit ive never open anyon life problem much ...  \n",
              "5  somebodi help mei terribl episod tonight feel ...  \n",
              "6  cant anymor hidden away summer room cant even ...  \n",
              "7  bla bla bla drug crappi health insur rant ill ...  \n",
              "8  drank feel better first timehi hope peopl know...  \n",
              "9  peopl life closest feel love toward suffer way...  "
            ]
          },
          "execution_count": 5,
          "metadata": {},
          "output_type": "execute_result"
        }
      ],
      "source": [
        "import nltk\n",
        "from nltk.corpus import stopwords\n",
        "from nltk.tokenize import word_tokenize\n",
        "import string\n",
        "from nltk.stem import PorterStemmer\n",
        "nltk.download('all')\n",
        "stemmer = PorterStemmer()\n",
        "\n",
        "def preprocess1(text):\n",
        "    stop_words = set(stopwords.words(\"english\"))\n",
        "    text = text.lower()\n",
        "    text = ''.join([word for word in text if word not in string.punctuation])\n",
        "    tokens = word_tokenize(text)\n",
        "    tokens = [word for word in tokens if word not in stop_words]\n",
        "    stemmed_tokens = [stemmer.stem(word) for word in tokens]\n",
        "    return ' '.join(stemmed_tokens)\n",
        "\n",
        "clean_text = []\n",
        "for i in range(dataset.shape[0]):\n",
        "  sentence = preprocess1(dataset.loc[i].at['text'])\n",
        "  clean_text.append(sentence)\n",
        "dataset['clean_text'] = clean_text\n",
        "dataset.head(10)"
      ]
    },
    {
      "cell_type": "code",
      "execution_count": 6,
      "metadata": {
        "colab": {
          "base_uri": "https://localhost:8080/",
          "height": 206
        },
        "id": "EHhYNmepewcO",
        "outputId": "2b66cd53-e714-41bf-8a3a-cd05931403b0"
      },
      "outputs": [
        {
          "data": {
            "text/html": [
              "\n",
              "  <div id=\"df-7b0ab324-eb23-449d-85ce-781a38efab82\">\n",
              "    <div class=\"colab-df-container\">\n",
              "      <div>\n",
              "<style scoped>\n",
              "    .dataframe tbody tr th:only-of-type {\n",
              "        vertical-align: middle;\n",
              "    }\n",
              "\n",
              "    .dataframe tbody tr th {\n",
              "        vertical-align: top;\n",
              "    }\n",
              "\n",
              "    .dataframe thead th {\n",
              "        text-align: right;\n",
              "    }\n",
              "</style>\n",
              "<table border=\"1\" class=\"dataframe\">\n",
              "  <thead>\n",
              "    <tr style=\"text-align: right;\">\n",
              "      <th></th>\n",
              "      <th>text</th>\n",
              "      <th>labels</th>\n",
              "      <th>clean_text</th>\n",
              "    </tr>\n",
              "  </thead>\n",
              "  <tbody>\n",
              "    <tr>\n",
              "      <th>0</th>\n",
              "      <td>Does life actually work for most / non-depress...</td>\n",
              "      <td>1.0</td>\n",
              "      <td>life actual work nondepress peopleit doesnt se...</td>\n",
              "    </tr>\n",
              "    <tr>\n",
              "      <th>1</th>\n",
              "      <td>I found my friend's bodyIt was almost nine yea...</td>\n",
              "      <td>1.0</td>\n",
              "      <td>found friend bodyit almost nine year ago still...</td>\n",
              "    </tr>\n",
              "    <tr>\n",
              "      <th>2</th>\n",
              "      <td>Am I weird I don't get affected by compliments...</td>\n",
              "      <td>0.0</td>\n",
              "      <td>weird dont get affect compliment come someon k...</td>\n",
              "    </tr>\n",
              "    <tr>\n",
              "      <th>3</th>\n",
              "      <td>Finally 2020 is almost over... So I can never ...</td>\n",
              "      <td>0.0</td>\n",
              "      <td>final 2020 almost never hear 2020 bad year eve...</td>\n",
              "    </tr>\n",
              "    <tr>\n",
              "      <th>4</th>\n",
              "      <td>Reddit, I've never opened up to anyone with my...</td>\n",
              "      <td>1.0</td>\n",
              "      <td>reddit ive never open anyon life problem much ...</td>\n",
              "    </tr>\n",
              "  </tbody>\n",
              "</table>\n",
              "</div>\n",
              "      <button class=\"colab-df-convert\" onclick=\"convertToInteractive('df-7b0ab324-eb23-449d-85ce-781a38efab82')\"\n",
              "              title=\"Convert this dataframe to an interactive table.\"\n",
              "              style=\"display:none;\">\n",
              "        \n",
              "  <svg xmlns=\"http://www.w3.org/2000/svg\" height=\"24px\"viewBox=\"0 0 24 24\"\n",
              "       width=\"24px\">\n",
              "    <path d=\"M0 0h24v24H0V0z\" fill=\"none\"/>\n",
              "    <path d=\"M18.56 5.44l.94 2.06.94-2.06 2.06-.94-2.06-.94-.94-2.06-.94 2.06-2.06.94zm-11 1L8.5 8.5l.94-2.06 2.06-.94-2.06-.94L8.5 2.5l-.94 2.06-2.06.94zm10 10l.94 2.06.94-2.06 2.06-.94-2.06-.94-.94-2.06-.94 2.06-2.06.94z\"/><path d=\"M17.41 7.96l-1.37-1.37c-.4-.4-.92-.59-1.43-.59-.52 0-1.04.2-1.43.59L10.3 9.45l-7.72 7.72c-.78.78-.78 2.05 0 2.83L4 21.41c.39.39.9.59 1.41.59.51 0 1.02-.2 1.41-.59l7.78-7.78 2.81-2.81c.8-.78.8-2.07 0-2.86zM5.41 20L4 18.59l7.72-7.72 1.47 1.35L5.41 20z\"/>\n",
              "  </svg>\n",
              "      </button>\n",
              "      \n",
              "  <style>\n",
              "    .colab-df-container {\n",
              "      display:flex;\n",
              "      flex-wrap:wrap;\n",
              "      gap: 12px;\n",
              "    }\n",
              "\n",
              "    .colab-df-convert {\n",
              "      background-color: #E8F0FE;\n",
              "      border: none;\n",
              "      border-radius: 50%;\n",
              "      cursor: pointer;\n",
              "      display: none;\n",
              "      fill: #1967D2;\n",
              "      height: 32px;\n",
              "      padding: 0 0 0 0;\n",
              "      width: 32px;\n",
              "    }\n",
              "\n",
              "    .colab-df-convert:hover {\n",
              "      background-color: #E2EBFA;\n",
              "      box-shadow: 0px 1px 2px rgba(60, 64, 67, 0.3), 0px 1px 3px 1px rgba(60, 64, 67, 0.15);\n",
              "      fill: #174EA6;\n",
              "    }\n",
              "\n",
              "    [theme=dark] .colab-df-convert {\n",
              "      background-color: #3B4455;\n",
              "      fill: #D2E3FC;\n",
              "    }\n",
              "\n",
              "    [theme=dark] .colab-df-convert:hover {\n",
              "      background-color: #434B5C;\n",
              "      box-shadow: 0px 1px 3px 1px rgba(0, 0, 0, 0.15);\n",
              "      filter: drop-shadow(0px 1px 2px rgba(0, 0, 0, 0.3));\n",
              "      fill: #FFFFFF;\n",
              "    }\n",
              "  </style>\n",
              "\n",
              "      <script>\n",
              "        const buttonEl =\n",
              "          document.querySelector('#df-7b0ab324-eb23-449d-85ce-781a38efab82 button.colab-df-convert');\n",
              "        buttonEl.style.display =\n",
              "          google.colab.kernel.accessAllowed ? 'block' : 'none';\n",
              "\n",
              "        async function convertToInteractive(key) {\n",
              "          const element = document.querySelector('#df-7b0ab324-eb23-449d-85ce-781a38efab82');\n",
              "          const dataTable =\n",
              "            await google.colab.kernel.invokeFunction('convertToInteractive',\n",
              "                                                     [key], {});\n",
              "          if (!dataTable) return;\n",
              "\n",
              "          const docLinkHtml = 'Like what you see? Visit the ' +\n",
              "            '<a target=\"_blank\" href=https://colab.research.google.com/notebooks/data_table.ipynb>data table notebook</a>'\n",
              "            + ' to learn more about interactive tables.';\n",
              "          element.innerHTML = '';\n",
              "          dataTable['output_type'] = 'display_data';\n",
              "          await google.colab.output.renderOutput(dataTable, element);\n",
              "          const docLink = document.createElement('div');\n",
              "          docLink.innerHTML = docLinkHtml;\n",
              "          element.appendChild(docLink);\n",
              "        }\n",
              "      </script>\n",
              "    </div>\n",
              "  </div>\n",
              "  "
            ],
            "text/plain": [
              "                                                text  labels  \\\n",
              "0  Does life actually work for most / non-depress...     1.0   \n",
              "1  I found my friend's bodyIt was almost nine yea...     1.0   \n",
              "2  Am I weird I don't get affected by compliments...     0.0   \n",
              "3  Finally 2020 is almost over... So I can never ...     0.0   \n",
              "4  Reddit, I've never opened up to anyone with my...     1.0   \n",
              "\n",
              "                                          clean_text  \n",
              "0  life actual work nondepress peopleit doesnt se...  \n",
              "1  found friend bodyit almost nine year ago still...  \n",
              "2  weird dont get affect compliment come someon k...  \n",
              "3  final 2020 almost never hear 2020 bad year eve...  \n",
              "4  reddit ive never open anyon life problem much ...  "
            ]
          },
          "execution_count": 6,
          "metadata": {},
          "output_type": "execute_result"
        }
      ],
      "source": [
        "dataset = dataset.drop(['class'],axis=1)\n",
        "dataset.head(5)"
      ]
    },
    {
      "cell_type": "code",
      "execution_count": 7,
      "metadata": {
        "id": "p793xMhNfK7-"
      },
      "outputs": [],
      "source": [
        "dataset = dataset.dropna()\n",
        "dataset = dataset.drop(['clean_text'],axis=1)\n"
      ]
    },
    {
      "cell_type": "code",
      "execution_count": 8,
      "metadata": {
        "colab": {
          "base_uri": "https://localhost:8080/"
        },
        "id": "mZTX1yiJLORC",
        "outputId": "66656e24-7ba9-402a-c1f7-26ff288c4b73"
      },
      "outputs": [
        {
          "data": {
            "text/plain": [
              "(29996, 2)"
            ]
          },
          "execution_count": 8,
          "metadata": {},
          "output_type": "execute_result"
        }
      ],
      "source": [
        "dataset.shape"
      ]
    },
    {
      "cell_type": "code",
      "execution_count": 9,
      "metadata": {
        "id": "4huPT0wBSsMq"
      },
      "outputs": [],
      "source": [
        "from sklearn.model_selection import train_test_split\n",
        "\n",
        "X = dataset['text']\n",
        "y = dataset['labels']\n",
        "X_train, X_test, y_train, y_test = train_test_split(X, y, test_size=0.2, random_state=42)"
      ]
    },
    {
      "cell_type": "code",
      "execution_count": null,
      "metadata": {
        "id": "ciCstytRT3kC"
      },
      "outputs": [],
      "source": []
    },
    {
      "cell_type": "code",
      "execution_count": 10,
      "metadata": {
        "id": "FBfwgnFWMPjy"
      },
      "outputs": [],
      "source": [
        "def preprocess(text):\n",
        "    stop_words = set(stopwords.words(\"english\"))\n",
        "    text = text.lower()\n",
        "    text = ''.join([word for word in text if word not in string.punctuation])\n",
        "    tokens = word_tokenize(text)\n",
        "    tokens = [word for word in tokens if word not in stop_words]\n",
        "    stemmed_tokens = [stemmer.stem(word) for word in tokens]\n",
        "    pos_tags = nltk.pos_tag(stemmed_tokens)\n",
        "    pos_tags = [word for word in pos_tags if word not in stop_words]\n",
        "    return ' '.join(str(pos_tags))\n",
        "X_train = X_train.apply(preprocess)\n",
        "X_test = X_test.apply(preprocess)"
      ]
    },
    {
      "cell_type": "code",
      "execution_count": null,
      "metadata": {
        "colab": {
          "base_uri": "https://localhost:8080/"
        },
        "id": "ztZOJpPwflPR",
        "outputId": "14d0ef08-28e0-4dad-ea75-8afbb6aeb159"
      },
      "outputs": [
        {
          "data": {
            "text/plain": [
              "(17328, 2)"
            ]
          },
          "execution_count": 60,
          "metadata": {},
          "output_type": "execute_result"
        }
      ],
      "source": [
        "dataset.shape"
      ]
    },
    {
      "cell_type": "code",
      "execution_count": 11,
      "metadata": {
        "id": "2JMKTrv6MT9O"
      },
      "outputs": [],
      "source": [
        "from gensim.models import Word2Vec\n",
        "\n",
        "sentences = [sentence.split() for sentence in X_train]\n",
        "w2v_model = Word2Vec(sentences, vector_size=100, window=5, min_count=5, workers=4)"
      ]
    },
    {
      "cell_type": "code",
      "execution_count": 12,
      "metadata": {
        "colab": {
          "base_uri": "https://localhost:8080/"
        },
        "id": "hybFxhnyPdcM",
        "outputId": "17bda512-e9ed-4b25-c94a-6c844e87e36a"
      },
      "outputs": [
        {
          "name": "stdout",
          "output_type": "stream",
          "text": [
            "Requirement already satisfied: tensorflow in /usr/local/lib/python3.10/dist-packages (2.12.0)\n",
            "Requirement already satisfied: absl-py>=1.0.0 in /usr/local/lib/python3.10/dist-packages (from tensorflow) (1.4.0)\n",
            "Requirement already satisfied: astunparse>=1.6.0 in /usr/local/lib/python3.10/dist-packages (from tensorflow) (1.6.3)\n",
            "Requirement already satisfied: flatbuffers>=2.0 in /usr/local/lib/python3.10/dist-packages (from tensorflow) (23.5.26)\n",
            "Requirement already satisfied: gast<=0.4.0,>=0.2.1 in /usr/local/lib/python3.10/dist-packages (from tensorflow) (0.4.0)\n",
            "Requirement already satisfied: google-pasta>=0.1.1 in /usr/local/lib/python3.10/dist-packages (from tensorflow) (0.2.0)\n",
            "Requirement already satisfied: grpcio<2.0,>=1.24.3 in /usr/local/lib/python3.10/dist-packages (from tensorflow) (1.56.0)\n",
            "Requirement already satisfied: h5py>=2.9.0 in /usr/local/lib/python3.10/dist-packages (from tensorflow) (3.8.0)\n",
            "Requirement already satisfied: jax>=0.3.15 in /usr/local/lib/python3.10/dist-packages (from tensorflow) (0.4.10)\n",
            "Requirement already satisfied: keras<2.13,>=2.12.0 in /usr/local/lib/python3.10/dist-packages (from tensorflow) (2.12.0)\n",
            "Requirement already satisfied: libclang>=13.0.0 in /usr/local/lib/python3.10/dist-packages (from tensorflow) (16.0.0)\n",
            "Requirement already satisfied: numpy<1.24,>=1.22 in /usr/local/lib/python3.10/dist-packages (from tensorflow) (1.22.4)\n",
            "Requirement already satisfied: opt-einsum>=2.3.2 in /usr/local/lib/python3.10/dist-packages (from tensorflow) (3.3.0)\n",
            "Requirement already satisfied: packaging in /usr/local/lib/python3.10/dist-packages (from tensorflow) (23.1)\n",
            "Requirement already satisfied: protobuf!=4.21.0,!=4.21.1,!=4.21.2,!=4.21.3,!=4.21.4,!=4.21.5,<5.0.0dev,>=3.20.3 in /usr/local/lib/python3.10/dist-packages (from tensorflow) (3.20.3)\n",
            "Requirement already satisfied: setuptools in /usr/local/lib/python3.10/dist-packages (from tensorflow) (67.7.2)\n",
            "Requirement already satisfied: six>=1.12.0 in /usr/local/lib/python3.10/dist-packages (from tensorflow) (1.16.0)\n",
            "Requirement already satisfied: tensorboard<2.13,>=2.12 in /usr/local/lib/python3.10/dist-packages (from tensorflow) (2.12.3)\n",
            "Requirement already satisfied: tensorflow-estimator<2.13,>=2.12.0 in /usr/local/lib/python3.10/dist-packages (from tensorflow) (2.12.0)\n",
            "Requirement already satisfied: termcolor>=1.1.0 in /usr/local/lib/python3.10/dist-packages (from tensorflow) (2.3.0)\n",
            "Requirement already satisfied: typing-extensions>=3.6.6 in /usr/local/lib/python3.10/dist-packages (from tensorflow) (4.6.3)\n",
            "Requirement already satisfied: wrapt<1.15,>=1.11.0 in /usr/local/lib/python3.10/dist-packages (from tensorflow) (1.14.1)\n",
            "Requirement already satisfied: tensorflow-io-gcs-filesystem>=0.23.1 in /usr/local/lib/python3.10/dist-packages (from tensorflow) (0.32.0)\n",
            "Requirement already satisfied: wheel<1.0,>=0.23.0 in /usr/local/lib/python3.10/dist-packages (from astunparse>=1.6.0->tensorflow) (0.40.0)\n",
            "Requirement already satisfied: ml-dtypes>=0.1.0 in /usr/local/lib/python3.10/dist-packages (from jax>=0.3.15->tensorflow) (0.2.0)\n",
            "Requirement already satisfied: scipy>=1.7 in /usr/local/lib/python3.10/dist-packages (from jax>=0.3.15->tensorflow) (1.10.1)\n",
            "Requirement already satisfied: google-auth<3,>=1.6.3 in /usr/local/lib/python3.10/dist-packages (from tensorboard<2.13,>=2.12->tensorflow) (2.17.3)\n",
            "Requirement already satisfied: google-auth-oauthlib<1.1,>=0.5 in /usr/local/lib/python3.10/dist-packages (from tensorboard<2.13,>=2.12->tensorflow) (1.0.0)\n",
            "Requirement already satisfied: markdown>=2.6.8 in /usr/local/lib/python3.10/dist-packages (from tensorboard<2.13,>=2.12->tensorflow) (3.4.3)\n",
            "Requirement already satisfied: requests<3,>=2.21.0 in /usr/local/lib/python3.10/dist-packages (from tensorboard<2.13,>=2.12->tensorflow) (2.27.1)\n",
            "Requirement already satisfied: tensorboard-data-server<0.8.0,>=0.7.0 in /usr/local/lib/python3.10/dist-packages (from tensorboard<2.13,>=2.12->tensorflow) (0.7.1)\n",
            "Requirement already satisfied: werkzeug>=1.0.1 in /usr/local/lib/python3.10/dist-packages (from tensorboard<2.13,>=2.12->tensorflow) (2.3.6)\n",
            "Requirement already satisfied: cachetools<6.0,>=2.0.0 in /usr/local/lib/python3.10/dist-packages (from google-auth<3,>=1.6.3->tensorboard<2.13,>=2.12->tensorflow) (5.3.1)\n",
            "Requirement already satisfied: pyasn1-modules>=0.2.1 in /usr/local/lib/python3.10/dist-packages (from google-auth<3,>=1.6.3->tensorboard<2.13,>=2.12->tensorflow) (0.3.0)\n",
            "Requirement already satisfied: rsa<5,>=3.1.4 in /usr/local/lib/python3.10/dist-packages (from google-auth<3,>=1.6.3->tensorboard<2.13,>=2.12->tensorflow) (4.9)\n",
            "Requirement already satisfied: requests-oauthlib>=0.7.0 in /usr/local/lib/python3.10/dist-packages (from google-auth-oauthlib<1.1,>=0.5->tensorboard<2.13,>=2.12->tensorflow) (1.3.1)\n",
            "Requirement already satisfied: urllib3<1.27,>=1.21.1 in /usr/local/lib/python3.10/dist-packages (from requests<3,>=2.21.0->tensorboard<2.13,>=2.12->tensorflow) (1.26.16)\n",
            "Requirement already satisfied: certifi>=2017.4.17 in /usr/local/lib/python3.10/dist-packages (from requests<3,>=2.21.0->tensorboard<2.13,>=2.12->tensorflow) (2023.5.7)\n",
            "Requirement already satisfied: charset-normalizer~=2.0.0 in /usr/local/lib/python3.10/dist-packages (from requests<3,>=2.21.0->tensorboard<2.13,>=2.12->tensorflow) (2.0.12)\n",
            "Requirement already satisfied: idna<4,>=2.5 in /usr/local/lib/python3.10/dist-packages (from requests<3,>=2.21.0->tensorboard<2.13,>=2.12->tensorflow) (3.4)\n",
            "Requirement already satisfied: MarkupSafe>=2.1.1 in /usr/local/lib/python3.10/dist-packages (from werkzeug>=1.0.1->tensorboard<2.13,>=2.12->tensorflow) (2.1.3)\n",
            "Requirement already satisfied: pyasn1<0.6.0,>=0.4.6 in /usr/local/lib/python3.10/dist-packages (from pyasn1-modules>=0.2.1->google-auth<3,>=1.6.3->tensorboard<2.13,>=2.12->tensorflow) (0.5.0)\n",
            "Requirement already satisfied: oauthlib>=3.0.0 in /usr/local/lib/python3.10/dist-packages (from requests-oauthlib>=0.7.0->google-auth-oauthlib<1.1,>=0.5->tensorboard<2.13,>=2.12->tensorflow) (3.2.2)\n"
          ]
        }
      ],
      "source": [
        "!pip install tensorflow\n",
        "import tensorflow\n",
        "import pandas as pd\n",
        "import numpy as np\n",
        "import string\n",
        "from nltk.corpus import stopwords\n",
        "from nltk.tokenize import word_tokenize\n",
        "from gensim.models import Word2Vec\n",
        "from tensorflow.keras.preprocessing.text import Tokenizer\n",
        "from tensorflow.keras.preprocessing.sequence import pad_sequences\n",
        "from tensorflow.keras.layers import Embedding, Conv1D, MaxPooling1D, Flatten, Dense\n",
        "from tensorflow.keras.models import Sequential\n"
      ]
    },
    {
      "cell_type": "code",
      "execution_count": 13,
      "metadata": {
        "id": "NNzQqksmOeOT"
      },
      "outputs": [],
      "source": [
        "# Tokenize the text data\n",
        "tokenizer = Tokenizer()\n",
        "tokenizer.fit_on_texts(X_train)\n",
        "\n",
        "X_train = tokenizer.texts_to_sequences(X_train)\n",
        "X_test = tokenizer.texts_to_sequences(X_test)\n",
        "\n",
        "vocab_size = len(tokenizer.word_index) + 1\n",
        "\n",
        "# Pad the sequences to a fixed length\n",
        "max_length = 100\n",
        "X_train = pad_sequences(X_train, maxlen=max_length, padding='post')\n",
        "X_test = pad_sequences(X_test, maxlen=max_length, padding='post')"
      ]
    },
    {
      "cell_type": "code",
      "execution_count": 14,
      "metadata": {
        "id": "Pg5QsOLTFOWO"
      },
      "outputs": [],
      "source": [
        "y_train = np.asarray(y_train)"
      ]
    },
    {
      "cell_type": "code",
      "execution_count": null,
      "metadata": {
        "id": "2YhiKQIAMWuF"
      },
      "outputs": [],
      "source": [
        "# import numpy as np\n",
        "\n",
        "# def vectorize(sentence):\n",
        "#     words = sentence.split()\n",
        "#     words_vecs = [w2v_model.wv[word] for word in words if word in w2v_model.wv]\n",
        "#     if len(words_vecs) == 0:\n",
        "#         return np.zeros(100)\n",
        "#     words_vecs = np.array(words_vecs)\n",
        "#     return words_vecs.mean(axis=0)\n",
        "\n",
        "# X_train = np.array([vectorize(sentence) for sentence in X_train])\n",
        "# X_test = np.array([vectorize(sentence) for sentence in X_test])"
      ]
    },
    {
      "cell_type": "code",
      "execution_count": null,
      "metadata": {
        "id": "QHLhP67tTRvJ"
      },
      "outputs": [],
      "source": [
        "# Create a weight matrix for the embedding layer\n",
        "embedding_matrix = np.zeros((vocab_size, 100))\n",
        "for word, i in tokenizer.word_index.items():\n",
        "    if word in w2v_model.wv:\n",
        "        embedding_matrix[i] = w2v_model.wv[word]"
      ]
    },
    {
      "cell_type": "code",
      "execution_count": null,
      "metadata": {
        "id": "NyoWM_cVM8H2"
      },
      "outputs": [],
      "source": []
    },
    {
      "cell_type": "code",
      "execution_count": null,
      "metadata": {
        "colab": {
          "base_uri": "https://localhost:8080/"
        },
        "id": "Qfp-P-7PPkVC",
        "outputId": "199ff47d-7d68-4dfe-8dd3-92ddddbd5b29"
      },
      "outputs": [
        {
          "name": "stdout",
          "output_type": "stream",
          "text": [
            "32\n"
          ]
        }
      ],
      "source": [
        "from tensorflow.keras.layers import Bidirectional\n",
        "from keras.layers import LSTM\n",
        "from keras.layers import Dropout\n",
        "\n",
        "model = Sequential()\n",
        "hidden_layer = 3\n",
        "lstm_node = 32\n",
        "model.add(Embedding(vocab_size, 100, weights=[embedding_matrix], input_length=max_length, trainable=False))\n",
        "print(lstm_node)\n",
        "for i in range(0,hidden_layer):\n",
        "    model.add(Bidirectional(LSTM(lstm_node,return_sequences=True, recurrent_dropout=0.2)))\n",
        "    model.add(Dropout(0.5))\n",
        "model.add(Bidirectional(LSTM(lstm_node, recurrent_dropout=0.2)))\n",
        "model.add(Dropout(0.5))\n",
        "#model.add(TimeDistributed(Dense(256)))\n",
        "#model.add(Flatten())\n",
        "model.add(Dense(256, activation='tanh'))\n",
        "model.add(Dense(2, activation='softmax'))\n",
        "model.compile(loss='sparse_categorical_crossentropy',\n",
        "                      optimizer='adam',\n",
        "                  metrics=['accuracy'])"
      ]
    },
    {
      "cell_type": "code",
      "execution_count": null,
      "metadata": {
        "colab": {
          "base_uri": "https://localhost:8080/"
        },
        "id": "n7o6_cKbPmmZ",
        "outputId": "6ca7a796-c522-4690-dff6-ac60aeeb5939"
      },
      "outputs": [
        {
          "name": "stdout",
          "output_type": "stream",
          "text": [
            "Epoch 1/50\n",
            "375/375 [==============================] - 460s 1s/step - loss: 0.6066 - accuracy: 0.6677 - val_loss: 0.5738 - val_accuracy: 0.6907\n",
            "Epoch 2/50\n",
            "375/375 [==============================] - 425s 1s/step - loss: 0.5400 - accuracy: 0.7310 - val_loss: 0.5052 - val_accuracy: 0.7593\n",
            "Epoch 3/50\n",
            "375/375 [==============================] - 396s 1s/step - loss: 0.5047 - accuracy: 0.7588 - val_loss: 0.4942 - val_accuracy: 0.7718\n",
            "Epoch 4/50\n",
            "375/375 [==============================] - 394s 1s/step - loss: 0.4775 - accuracy: 0.7766 - val_loss: 0.4523 - val_accuracy: 0.7897\n",
            "Epoch 5/50\n",
            "375/375 [==============================] - 391s 1s/step - loss: 0.4566 - accuracy: 0.7891 - val_loss: 0.4688 - val_accuracy: 0.7863\n",
            "Epoch 6/50\n",
            "375/375 [==============================] - 393s 1s/step - loss: 0.4431 - accuracy: 0.7947 - val_loss: 0.4860 - val_accuracy: 0.7517\n",
            "Epoch 7/50\n",
            "375/375 [==============================] - 368s 980ms/step - loss: 0.4306 - accuracy: 0.8049 - val_loss: 0.4401 - val_accuracy: 0.7903\n",
            "Epoch 8/50\n",
            "375/375 [==============================] - 379s 1s/step - loss: 0.4191 - accuracy: 0.8101 - val_loss: 0.4180 - val_accuracy: 0.8115\n",
            "Epoch 9/50\n",
            "375/375 [==============================] - 387s 1s/step - loss: 0.4131 - accuracy: 0.8157 - val_loss: 0.4250 - val_accuracy: 0.8067\n",
            "Epoch 10/50\n",
            "375/375 [==============================] - 386s 1s/step - loss: 0.4016 - accuracy: 0.8208 - val_loss: 0.4407 - val_accuracy: 0.8058\n",
            "Epoch 11/50\n",
            "375/375 [==============================] - 382s 1s/step - loss: 0.3980 - accuracy: 0.8231 - val_loss: 0.4086 - val_accuracy: 0.8172\n",
            "Epoch 12/50\n",
            "375/375 [==============================] - 375s 1s/step - loss: 0.3922 - accuracy: 0.8236 - val_loss: 0.4496 - val_accuracy: 0.8220\n",
            "Epoch 13/50\n",
            "375/375 [==============================] - 385s 1s/step - loss: 0.3830 - accuracy: 0.8311 - val_loss: 0.4137 - val_accuracy: 0.8243\n",
            "Epoch 14/50\n",
            "375/375 [==============================] - 384s 1s/step - loss: 0.3775 - accuracy: 0.8352 - val_loss: 0.4069 - val_accuracy: 0.8237\n",
            "Epoch 15/50\n",
            "375/375 [==============================] - 385s 1s/step - loss: 0.3735 - accuracy: 0.8350 - val_loss: 0.4092 - val_accuracy: 0.8263\n",
            "Epoch 16/50\n",
            "375/375 [==============================] - 382s 1s/step - loss: 0.3655 - accuracy: 0.8394 - val_loss: 0.4294 - val_accuracy: 0.8183\n",
            "Epoch 17/50\n",
            "375/375 [==============================] - 380s 1s/step - loss: 0.3653 - accuracy: 0.8431 - val_loss: 0.4030 - val_accuracy: 0.8265\n",
            "Epoch 18/50\n",
            "375/375 [==============================] - 386s 1s/step - loss: 0.3582 - accuracy: 0.8474 - val_loss: 0.4046 - val_accuracy: 0.8250\n",
            "Epoch 19/50\n",
            "375/375 [==============================] - 385s 1s/step - loss: 0.3545 - accuracy: 0.8442 - val_loss: 0.4158 - val_accuracy: 0.8240\n",
            "Epoch 20/50\n",
            "375/375 [==============================] - 384s 1s/step - loss: 0.3547 - accuracy: 0.8467 - val_loss: 0.3973 - val_accuracy: 0.8248\n",
            "Epoch 21/50\n",
            "375/375 [==============================] - 386s 1s/step - loss: 0.3455 - accuracy: 0.8526 - val_loss: 0.4254 - val_accuracy: 0.8222\n",
            "Epoch 22/50\n",
            "375/375 [==============================] - 386s 1s/step - loss: 0.3445 - accuracy: 0.8528 - val_loss: 0.4091 - val_accuracy: 0.8275\n",
            "Epoch 23/50\n",
            "375/375 [==============================] - 384s 1s/step - loss: 0.3367 - accuracy: 0.8566 - val_loss: 0.4031 - val_accuracy: 0.8247\n",
            "Epoch 24/50\n",
            "375/375 [==============================] - 384s 1s/step - loss: 0.3348 - accuracy: 0.8577 - val_loss: 0.4047 - val_accuracy: 0.8272\n",
            "Epoch 25/50\n",
            "375/375 [==============================] - 388s 1s/step - loss: 0.3351 - accuracy: 0.8572 - val_loss: 0.4097 - val_accuracy: 0.8250\n",
            "Epoch 26/50\n",
            "375/375 [==============================] - 385s 1s/step - loss: 0.3281 - accuracy: 0.8614 - val_loss: 0.4127 - val_accuracy: 0.8302\n",
            "Epoch 27/50\n",
            "375/375 [==============================] - 386s 1s/step - loss: 0.3264 - accuracy: 0.8624 - val_loss: 0.4052 - val_accuracy: 0.8223\n",
            "Epoch 28/50\n",
            "375/375 [==============================] - 382s 1s/step - loss: 0.3222 - accuracy: 0.8630 - val_loss: 0.4134 - val_accuracy: 0.8198\n",
            "Epoch 29/50\n",
            "375/375 [==============================] - 382s 1s/step - loss: 0.3236 - accuracy: 0.8638 - val_loss: 0.4035 - val_accuracy: 0.8305\n",
            "Epoch 30/50\n",
            "375/375 [==============================] - 381s 1s/step - loss: 0.3180 - accuracy: 0.8655 - val_loss: 0.4142 - val_accuracy: 0.8218\n",
            "Epoch 31/50\n",
            "375/375 [==============================] - 383s 1s/step - loss: 0.3135 - accuracy: 0.8690 - val_loss: 0.4286 - val_accuracy: 0.8285\n",
            "Epoch 32/50\n",
            "375/375 [==============================] - 382s 1s/step - loss: 0.3110 - accuracy: 0.8689 - val_loss: 0.4239 - val_accuracy: 0.8290\n",
            "Epoch 33/50\n",
            "375/375 [==============================] - 383s 1s/step - loss: 0.3068 - accuracy: 0.8730 - val_loss: 0.4188 - val_accuracy: 0.8278\n",
            "Epoch 34/50\n",
            "375/375 [==============================] - 388s 1s/step - loss: 0.3063 - accuracy: 0.8709 - val_loss: 0.4163 - val_accuracy: 0.8337\n",
            "Epoch 35/50\n",
            "375/375 [==============================] - 384s 1s/step - loss: 0.3019 - accuracy: 0.8728 - val_loss: 0.4277 - val_accuracy: 0.8283\n",
            "Epoch 36/50\n",
            "375/375 [==============================] - 382s 1s/step - loss: 0.3018 - accuracy: 0.8756 - val_loss: 0.4141 - val_accuracy: 0.8273\n",
            "Epoch 37/50\n",
            "375/375 [==============================] - 383s 1s/step - loss: 0.2986 - accuracy: 0.8770 - val_loss: 0.4230 - val_accuracy: 0.8298\n",
            "Epoch 38/50\n",
            "375/375 [==============================] - 375s 998ms/step - loss: 0.2987 - accuracy: 0.8751 - val_loss: 0.4131 - val_accuracy: 0.8295\n",
            "Epoch 39/50\n",
            "375/375 [==============================] - 384s 1s/step - loss: 0.2953 - accuracy: 0.8773 - val_loss: 0.4272 - val_accuracy: 0.8270\n",
            "Epoch 40/50\n",
            "375/375 [==============================] - 377s 1s/step - loss: 0.2954 - accuracy: 0.8763 - val_loss: 0.4358 - val_accuracy: 0.8292\n",
            "Epoch 41/50\n",
            "375/375 [==============================] - 383s 1s/step - loss: 0.2909 - accuracy: 0.8809 - val_loss: 0.4522 - val_accuracy: 0.8242\n",
            "Epoch 42/50\n",
            "375/375 [==============================] - 385s 1s/step - loss: 0.2900 - accuracy: 0.8787 - val_loss: 0.4237 - val_accuracy: 0.8282\n",
            "Epoch 43/50\n",
            "375/375 [==============================] - 382s 1s/step - loss: 0.2819 - accuracy: 0.8824 - val_loss: 0.4430 - val_accuracy: 0.8235\n",
            "Epoch 44/50\n",
            "375/375 [==============================] - 383s 1s/step - loss: 0.2831 - accuracy: 0.8809 - val_loss: 0.4382 - val_accuracy: 0.8260\n",
            "Epoch 45/50\n",
            "375/375 [==============================] - 384s 1s/step - loss: 0.2845 - accuracy: 0.8822 - val_loss: 0.4542 - val_accuracy: 0.8253\n",
            "Epoch 46/50\n",
            "375/375 [==============================] - 385s 1s/step - loss: 0.2770 - accuracy: 0.8849 - val_loss: 0.4465 - val_accuracy: 0.8257\n",
            "Epoch 47/50\n",
            "375/375 [==============================] - 383s 1s/step - loss: 0.2774 - accuracy: 0.8851 - val_loss: 0.4325 - val_accuracy: 0.8235\n",
            "Epoch 48/50\n",
            "375/375 [==============================] - 383s 1s/step - loss: 0.2726 - accuracy: 0.8856 - val_loss: 0.4492 - val_accuracy: 0.8243\n",
            "Epoch 49/50\n",
            "375/375 [==============================] - 381s 1s/step - loss: 0.2718 - accuracy: 0.8891 - val_loss: 0.4395 - val_accuracy: 0.8278\n",
            "Epoch 50/50\n",
            "375/375 [==============================] - 383s 1s/step - loss: 0.2668 - accuracy: 0.8903 - val_loss: 0.4333 - val_accuracy: 0.8247\n"
          ]
        },
        {
          "data": {
            "text/plain": [
              "<keras.callbacks.History at 0x7f94314cace0>"
            ]
          },
          "execution_count": 40,
          "metadata": {},
          "output_type": "execute_result"
        }
      ],
      "source": [
        "model.fit(X_train, y_train, epochs=50, batch_size=64, validation_data=(X_test, y_test))"
      ]
    },
    {
      "cell_type": "code",
      "execution_count": null,
      "metadata": {
        "id": "a_UlCPvYPpHA"
      },
      "outputs": [],
      "source": [
        "model.evaluate(X_test, y_test)"
      ]
    },
    {
      "cell_type": "code",
      "execution_count": null,
      "metadata": {
        "colab": {
          "base_uri": "https://localhost:8080/"
        },
        "id": "1ZV7-bV5EzCt",
        "outputId": "02388dcd-c9af-49ff-c564-c8b71a34528d"
      },
      "outputs": [
        {
          "data": {
            "text/plain": [
              "1.0    15011\n",
              "0.0    14985\n",
              "Name: labels, dtype: int64"
            ]
          },
          "execution_count": 43,
          "metadata": {},
          "output_type": "execute_result"
        }
      ],
      "source": [
        "dataset['labels'].value_counts()\n"
      ]
    },
    {
      "cell_type": "code",
      "execution_count": null,
      "metadata": {
        "id": "oexrpbYGfMM8"
      },
      "outputs": [],
      "source": [
        "import tensorflow\n",
        "model.save(\"/content/drive/MyDrive/mymodel2.h5\")"
      ]
    },
    {
      "cell_type": "code",
      "execution_count": 15,
      "metadata": {
        "id": "8hFs3o7zfOJz"
      },
      "outputs": [],
      "source": [
        "import tensorflow\n",
        "\n",
        "model = tensorflow.keras.models.load_model(\"/content/drive/MyDrive/mymodel2.h5\")"
      ]
    },
    {
      "cell_type": "code",
      "execution_count": 16,
      "metadata": {
        "colab": {
          "base_uri": "https://localhost:8080/"
        },
        "id": "wnhIrXMMfcOW",
        "outputId": "def40fe7-08ef-49f3-adf3-b3670a4d7a0a"
      },
      "outputs": [
        {
          "name": "stdout",
          "output_type": "stream",
          "text": [
            "188/188 [==============================] - 47s 226ms/step - loss: 0.4333 - accuracy: 0.8247\n"
          ]
        },
        {
          "data": {
            "text/plain": [
              "[0.43326374888420105, 0.8246666789054871]"
            ]
          },
          "execution_count": 16,
          "metadata": {},
          "output_type": "execute_result"
        }
      ],
      "source": [
        "model.evaluate(X_test, y_test)"
      ]
    },
    {
      "cell_type": "code",
      "execution_count": 17,
      "metadata": {
        "colab": {
          "base_uri": "https://localhost:8080/"
        },
        "id": "ttKc5Pc7FLvF",
        "outputId": "85c87b2c-1357-4748-e031-8455920a18d1"
      },
      "outputs": [
        {
          "name": "stdout",
          "output_type": "stream",
          "text": [
            "188/188 [==============================] - 36s 183ms/step\n"
          ]
        }
      ],
      "source": [
        "y_pred = model.predict(X_test)"
      ]
    },
    {
      "cell_type": "code",
      "execution_count": null,
      "metadata": {
        "id": "L3tS2Ij7GTSK"
      },
      "outputs": [],
      "source": [
        "y_pred = np.argmax(y_pred, axis = 1)"
      ]
    },
    {
      "cell_type": "code",
      "execution_count": null,
      "metadata": {
        "colab": {
          "base_uri": "https://localhost:8080/"
        },
        "id": "v6bgZC0kFQh4",
        "outputId": "7d4b14dd-c7a3-446e-8c48-f24f43adde6c"
      },
      "outputs": [
        {
          "name": "stdout",
          "output_type": "stream",
          "text": [
            "              precision    recall  f1-score   support\n",
            "\n",
            "           0       0.82      0.83      0.83      2999\n",
            "           1       0.83      0.82      0.82      3001\n",
            "\n",
            "    accuracy                           0.82      6000\n",
            "   macro avg       0.82      0.82      0.82      6000\n",
            "weighted avg       0.82      0.82      0.82      6000\n",
            "\n"
          ]
        }
      ],
      "source": [
        "import sklearn\n",
        "print(sklearn.metrics.classification_report(y_pred, y_test))"
      ]
    },
    {
      "cell_type": "code",
      "execution_count": null,
      "metadata": {
        "colab": {
          "base_uri": "https://localhost:8080/",
          "height": 472
        },
        "id": "vxXOPxFAGtKa",
        "outputId": "4a4e8774-d965-4f4b-81d1-78efb99c8a0e"
      },
      "outputs": [
        {
          "data": {
            "image/png": "[encoded data removed]",
            "text/plain": [
              "<Figure size 640x480 with 1 Axes>"
            ]
          },
          "metadata": {},
          "output_type": "display_data"
        }
      ],
      "source": [
        "import sklearn\n",
        "import matplotlib.pyplot as plt\n",
        "from sklearn.metrics import roc_auc_score, roc_curve\n",
        "import matplotlib.pyplot as plt\n",
        "auc_score = roc_auc_score(y_test, y_pred)\n",
        "\n",
        "# Get the false positive rate (fpr) and true positive rate (tpr) for the AUC curve\n",
        "fpr, tpr, thresholds = roc_curve(y_test, y_pred)\n",
        "\n",
        "# Plot the AUC curve\n",
        "plt.plot(fpr, tpr, label='AUC = {:.3f}'.format(auc_score))\n",
        "plt.plot([0, 1], [0, 1], 'k--')  # Plotting the diagonal line\n",
        "plt.xlabel('False Positive Rate')\n",
        "plt.ylabel('True Positive Rate')\n",
        "plt.title('Receiver Operating Characteristic (ROC) Curve')\n",
        "plt.legend(loc='lower right')\n",
        "plt.show()"
      ]
    },
    {
      "cell_type": "markdown",
      "metadata": {
        "id": "gKgxlFsm6tMk"
      },
      "source": [
        "## NAIVE BAYES"
      ]
    },
    {
      "cell_type": "code",
      "execution_count": 18,
      "metadata": {
        "id": "AN_KuqnlxWvg"
      },
      "outputs": [],
      "source": [
        "from sklearn.feature_selection import SelectKBest, f_classif\n",
        "selector = SelectKBest(score_func=f_classif, k=20)\n",
        "selector.fit(X_train, y_train)\n",
        "selected_indices = selector.get_support(indices=True)\n",
        "X_train_selected = X_train[:, selected_indices]\n",
        "X_test_selected = X_test[:, selected_indices]\n",
        "\n",
        "\n"
      ]
    },
    {
      "cell_type": "code",
      "execution_count": 19,
      "metadata": {
        "colab": {
          "base_uri": "https://localhost:8080/"
        },
        "id": "i42tB4oTxh8J",
        "outputId": "d5a57da7-93a4-4811-c8d2-821170beb007"
      },
      "outputs": [
        {
          "data": {
            "text/plain": [
              "0.6005"
            ]
          },
          "execution_count": 19,
          "metadata": {},
          "output_type": "execute_result"
        }
      ],
      "source": [
        "from sklearn.naive_bayes import GaussianNB\n",
        "from sklearn.metrics import confusion_matrix, accuracy_score\n",
        "classifier = GaussianNB()\n",
        "classifier.fit(X_train_selected, y_train)\n",
        "y_pred1 = classifier.predict(X_test_selected)\n",
        "accuracy_score(y_test, y_pred1)"
      ]
    },
    {
      "cell_type": "code",
      "execution_count": 24,
      "metadata": {
        "colab": {
          "base_uri": "https://localhost:8080/"
        },
        "id": "uAKSdmR0SXVH",
        "outputId": "cbd48247-2cec-4e0f-e193-b58936d38678"
      },
      "outputs": [
        {
          "data": {
            "text/plain": [
              "0.7158333333333333"
            ]
          },
          "execution_count": 24,
          "metadata": {},
          "output_type": "execute_result"
        }
      ],
      "source": [
        "# from xgboost import XGBClassifier\n",
        "# classifier2 = XGBClassifier()\n",
        "# classifier2.fit(X_train, y_train)\n",
        "# y_pred2 = classifier2.predict(X_test)\n",
        "# accuracy_score(y_test, y_pred2)"
      ]
    },
    {
      "cell_type": "code",
      "execution_count": null,
      "metadata": {
        "colab": {
          "base_uri": "https://localhost:8080/"
        },
        "id": "16ufz8N7UqrI",
        "outputId": "f8b6e69d-4f7d-471e-aced-e7fa6a989d6e"
      },
      "outputs": [
        {
          "data": {
            "text/plain": [
              "0.6225"
            ]
          },
          "execution_count": 96,
          "metadata": {},
          "output_type": "execute_result"
        }
      ],
      "source": [
        "# from sklearn.neighbors import KNeighborsClassifier\n",
        "# classifier3 = KNeighborsClassifier(n_neighbors = 100, metric = 'minkowski', p = 2)\n",
        "# classifier3.fit(X_train, y_train)\n",
        "# y_pred3 = classifier3.predict(X_test)\n",
        "# accuracy_score(y_test, y_pred3)\n"
      ]
    },
    {
      "cell_type": "code",
      "execution_count": null,
      "metadata": {
        "id": "SijtmH0-VbGr"
      },
      "outputs": [],
      "source": [
        "# from sklearn.svm import SVC #based on extreme consitions thus is special\n",
        "# classifier4 = SVC(kernel = 'linear', random_state = 0)\n",
        "# classifier4.fit(X_train, y_train)\n",
        "# y_pred4 = classifier4.predict(X_test)\n",
        "# accuracy_score(y_test, y_pred4)"
      ]
    },
    {
      "cell_type": "code",
      "execution_count": null,
      "metadata": {
        "id": "vs5Q8t3MWZdb"
      },
      "outputs": [],
      "source": [
        "# from sklearn.tree import DecisionTreeClassifier\n",
        "# classifier5 = DecisionTreeClassifier(criterion = 'entropy', random_state = 0)\n",
        "# classifier5.fit(X_train, y_train)\n",
        "# y_pred5 = classifier5.predict(X_test)\n",
        "# accuracy_score(y_test, y_pred5)"
      ]
    },
    {
      "cell_type": "code",
      "execution_count": null,
      "metadata": {
        "id": "2olt3x98Wpli"
      },
      "outputs": [],
      "source": [
        "# from sklearn.ensemble import RandomForestClassifier\n",
        "# classifier6 = RandomForestClassifier(n_estimators = 10, criterion = 'entropy', random_state = 0)\n",
        "# classifier6.fit(X_train, y_train)\n",
        "# y_pred6 = classifier6.predict(X_test)\n",
        "# accuracy_score(y_test, y_pred6)"
      ]
    },
    {
      "cell_type": "code",
      "execution_count": null,
      "metadata": {
        "colab": {
          "base_uri": "https://localhost:8080/"
        },
        "id": "IUDd5JSU7KQ4",
        "outputId": "c23442c2-f449-4a87-c96f-ee9c67e57bb6"
      },
      "outputs": [
        {
          "name": "stdout",
          "output_type": "stream",
          "text": [
            "              precision    recall  f1-score   support\n",
            "\n",
            "         0.0       0.73      0.54      0.62      3047\n",
            "         1.0       0.63      0.80      0.70      2953\n",
            "\n",
            "    accuracy                           0.67      6000\n",
            "   macro avg       0.68      0.67      0.66      6000\n",
            "weighted avg       0.68      0.67      0.66      6000\n",
            "\n"
          ]
        }
      ],
      "source": [
        "# import sklearn\n",
        "# print(sklearn.metrics.classification_report(y_test, y_pred))"
      ]
    },
    {
      "cell_type": "code",
      "execution_count": null,
      "metadata": {
        "id": "ayQ_LcoEV8Wb"
      },
      "outputs": [],
      "source": []
    },
    {
      "cell_type": "code",
      "execution_count": null,
      "metadata": {
        "colab": {
          "base_uri": "https://localhost:8080/",
          "height": 472
        },
        "id": "MtRqNcr5Hh2U",
        "outputId": "c78fdd1f-2a43-4031-d8ad-816dae296e3b"
      },
      "outputs": [
        {
          "data": {
            "image/png": "[encoded data removed]",
            "text/plain": [
              "<Figure size 640x480 with 1 Axes>"
            ]
          },
          "metadata": {},
          "output_type": "display_data"
        }
      ],
      "source": [
        "import sklearn\n",
        "import matplotlib.pyplot as plt\n",
        "from sklearn.metrics import roc_auc_score, roc_curve\n",
        "import matplotlib.pyplot as plt\n",
        "auc_score = roc_auc_score(y_test, y_pred1)\n",
        "\n",
        "fpr, tpr, thresholds = roc_curve(y_test, y_pred1)\n",
        "\n",
        "# Plot the AUC curve\n",
        "plt.plot(fpr, tpr, label='AUC = {:.3f}'.format(auc_score))\n",
        "plt.plot([0, 1], [0, 1], 'k--')  # Plotting the diagonal line\n",
        "plt.xlabel('False Positive Rate')\n",
        "plt.ylabel('True Positive Rate')\n",
        "plt.title('Receiver Operating Characteristic (ROC) Curve')\n",
        "plt.legend(loc='lower right')\n",
        "plt.show()"
      ]
    },
    {
      "cell_type": "markdown",
      "metadata": {
        "id": "jHC2duld7u6p"
      },
      "source": [
        "## Ensemble"
      ]
    },
    {
      "cell_type": "code",
      "execution_count": 29,
      "metadata": {
        "colab": {
          "base_uri": "https://localhost:8080/"
        },
        "id": "blIBUW587t_T",
        "outputId": "7ac453e3-c33c-4f77-a74c-19421e8265a5"
      },
      "outputs": [
        {
          "name": "stdout",
          "output_type": "stream",
          "text": [
            "188/188 [==============================] - 29s 150ms/step\n",
            "(1, 6000)\n",
            "(1, 6000, 2)\n"
          ]
        }
      ],
      "source": [
        "import numpy as np\n",
        "from sklearn.ensemble import VotingClassifier\n",
        "from tensorflow.keras.models import load_model\n",
        "\n",
        "# Assuming you have a list of classifier models stored in 'classifier_model_list'\n",
        "# and a list of sequential models stored in 'sequential_model_list'\n",
        "classifier_model_list = [classifier]\n",
        "# Create tuples of (model_name, model) for each classifier model\n",
        "classifier_model_tuple_list = [('classifier_model_{}'.format(i), model) for i, model in enumerate(classifier_model_list)]\n",
        "\n",
        "\n",
        "sequential_model_list = [model]\n",
        "# Load the sequential models\n",
        "sequential_models = [model_path for model_path in sequential_model_list]\n",
        "\n",
        "# Create a VotingClassifier for classifier models\n",
        "voting_classifier = VotingClassifier(estimators=classifier_model_tuple_list, voting='hard')\n",
        "\n",
        "# Make predictions using the classifier models\n",
        "classifier_predictions = []\n",
        "for modela in classifier_model_list:\n",
        "    classifier_predictions.append(modela.predict(X_test_selected))\n",
        "\n",
        "# Make predictions using the sequential models\n",
        "sequential_predictions = []\n",
        "for modelb in sequential_models:\n",
        "    sequential_predictions.append(modelb.predict(X_test))\n",
        "\n",
        "# Perform ensemble by combining the predictions\n",
        "# sequential_predictions = np.array(sequential_predictions).reshape(600, 1)\n",
        "# sequential_predictions = sequential_predictions.transpose()\n",
        "# print(np.array(sequential_predictions)).shape\n",
        "\n",
        "\n",
        "print(np.array(classifier_predictions).shape)\n",
        "print(np.array(sequential_predictions).shape)\n",
        "\n",
        "sp = np.argmax(np.array(sequential_predictions), axis = 2)\n",
        "sp.shape\n",
        "ensemble_predictions = np.mean(classifier_predictions + sp, axis=0)\n",
        "ensemble_predictions = [(g + h) / 2 for g, h in zip(sp, classifier_predictions)]\n",
        "# Get the predicted class labels by selecting the class with the highest probability\n",
        "ensemble_class_labels = [np.round(x) for x in ensemble_predictions]\n",
        "# You can then use 'ensemble_class_labels' as your final prediction"
      ]
    },
    {
      "cell_type": "code",
      "execution_count": null,
      "metadata": {
        "colab": {
          "base_uri": "https://localhost:8080/"
        },
        "id": "OZ1pRNz27z_t",
        "outputId": "74cad7d0-00a7-4ce1-d3af-fde2daee4216"
      },
      "outputs": [
        {
          "name": "stdout",
          "output_type": "stream",
          "text": [
            "              precision    recall  f1-score   support\n",
            "\n",
            "         0.0       0.83      0.82      0.83      3052\n",
            "         1.0       0.82      0.82      0.82      2948\n",
            "\n",
            "    accuracy                           0.82      6000\n",
            "   macro avg       0.82      0.82      0.82      6000\n",
            "weighted avg       0.82      0.82      0.82      6000\n",
            "\n"
          ]
        }
      ],
      "source": [
        "print(sklearn.metrics.classification_report(np.array(ensemble_class_labels).flatten(), np.array(y_test)))"
      ]
    },
    {
      "cell_type": "code",
      "execution_count": null,
      "metadata": {
        "colab": {
          "base_uri": "https://localhost:8080/"
        },
        "id": "CGK1zzGs7_hW",
        "outputId": "56dbb5f2-7a4a-43bf-f18a-2f394eee7ca0"
      },
      "outputs": [
        {
          "name": "stdout",
          "output_type": "stream",
          "text": [
            "Ensemble Accuracy: 80.72%\n"
          ]
        }
      ],
      "source": [
        "ensemble_accuracy = np.mean(np.array(ensemble_class_labels).flatten() == np.array(y_test)) * 100\n",
        "\n",
        "print(\"Ensemble Accuracy: {:.2f}%\".format(ensemble_accuracy))"
      ]
    },
    {
      "cell_type": "code",
      "execution_count": null,
      "metadata": {
        "id": "9y4FbpPryVqP"
      },
      "outputs": [],
      "source": [
        "# from sklearn.model_selection import KFold, cross_val_score\n",
        "# k = 20\n",
        "# kfold = KFold(n_splits=k, shuffle=True, random_state=42)\n",
        "\n",
        "# # Perform k-fold cross-validation\n",
        "# scores = cross_val_score(voting_classifier, X_test, y_test, cv=kfold)\n",
        "\n",
        "# # Print the accuracy scores for each fold\n",
        "# for fold, score in enumerate(scores):\n",
        "#     print(f\"Fold {fold+1}: {score}\")\n",
        "\n",
        "# # Calculate the mean accuracy across all folds\n",
        "# mean_accuracy = scores.mean()\n",
        "# print(\"Mean Accuracy:\", mean_accuracy)"
      ]
    },
    {
      "cell_type": "code",
      "execution_count": null,
      "metadata": {
        "colab": {
          "base_uri": "https://localhost:8080/",
          "height": 472
        },
        "id": "6vnqzP_NCiSz",
        "outputId": "5f22413a-d6bb-4e4f-b77a-611100811a72"
      },
      "outputs": [
        {
          "data": {
            "image/png": "[encoded data removed]",
            "text/plain": [
              "<Figure size 640x480 with 1 Axes>"
            ]
          },
          "metadata": {},
          "output_type": "display_data"
        }
      ],
      "source": [
        "# import sklearn\n",
        "# import matplotlib.pyplot as plt\n",
        "# from sklearn.metrics import roc_auc_score, roc_curve\n",
        "# import matplotlib.pyplot as plt\n",
        "# auc_score = roc_auc_score(y_test, ensemble_class_labels[0])\n",
        "\n",
        "# # Get the false positive rate (fpr) and true positive rate (tpr) for the AUC curve\n",
        "# fpr, tpr, thresholds = roc_curve(y_test, ensemble_class_labels[0])\n",
        "\n",
        "# # Plot the AUC curve\n",
        "# plt.plot(fpr, tpr, label='AUC = {:.3f}'.format(auc_score))\n",
        "# plt.plot([0, 1], [0, 1], 'k--')  # Plotting the diagonal line\n",
        "# plt.xlabel('False Positive Rate')\n",
        "# plt.ylabel('True Positive Rate')\n",
        "# plt.title('Receiver Operating Characteristic (ROC) Curve')\n",
        "# plt.legend(loc='lower right')\n",
        "# plt.show()"
      ]
    },
    {
      "cell_type": "markdown",
      "metadata": {
        "id": "3et4NR03uqLv"
      },
      "source": [
        "## Gradient boosting ensemble"
      ]
    },
    {
      "cell_type": "code",
      "execution_count": null,
      "metadata": {
        "id": "swjqGIECupoq"
      },
      "outputs": [],
      "source": []
    },
    {
      "cell_type": "code",
      "execution_count": 26,
      "metadata": {
        "colab": {
          "base_uri": "https://localhost:8080/"
        },
        "id": "mFPSrPwuC7eB",
        "outputId": "d3ae007a-6e0f-408e-c119-dc93c42e2f5e"
      },
      "outputs": [
        {
          "name": "stdout",
          "output_type": "stream",
          "text": [
            "Ensemble Accuracy: 0.8331666666666667\n"
          ]
        }
      ],
      "source": [
        "import numpy as np\n",
        "from sklearn.naive_bayes import GaussianNB\n",
        "from sklearn.metrics import accuracy_score\n",
        "from sklearn.ensemble import GradientBoostingClassifier\n",
        "from sklearn.model_selection import train_test_split\n",
        "from keras.models import Sequential\n",
        "from keras.layers import Dense, LSTM, Bidirectional\n",
        "# from keras.preprocessing.sequence import pad_sequences\n",
        "\n",
        "# Step 1: Train the BiLSTM model\n",
        "# Assuming you have your data and labels stored in X and y, preprocess them accordingly\n",
        "# X_train, X_val, y_train, y_val = train_test_split(X, y, test_size=0.2)\n",
        "\n",
        "\n",
        "\n",
        "# Step 2: Generate predictions from BiLSTM model\n",
        "# bi_lstm_predictions = model.predict(X_test)\n",
        "\n",
        "# Step 3: Train the Naive Bayes model\n",
        "# naive_bayes_model = GaussianNB()\n",
        "# naive_bayes_model.fit(X_train, y_train)\n",
        "\n",
        "# Step 4: Generate predictions with Naive Bayes\n",
        "# naive_bayes_predictions = naive_bayes_model.predict(X_val)\n",
        "\n",
        "# Step 5: Combine predictions\n",
        "ensemble_features = np.column_stack((y_pred, y_pred1))\n",
        "\n",
        "# Step 6: Train the gradient boosting ensemble\n",
        "ensemble_model = GradientBoostingClassifier()\n",
        "ensemble_model.fit(ensemble_features, y_test)\n",
        "\n",
        "# Step 7: Tune hyperparameters (optional)\n",
        "# You can use techniques like GridSearchCV to search for the best hyperparameters\n",
        "\n",
        "# Step 8: Evaluate the ensemble model\n",
        "ensemble_predictions = ensemble_model.predict(ensemble_features)\n",
        "ensemble_accuracy = accuracy_score(y_test, ensemble_predictions)\n",
        "print(\"Ensemble Accuracy:\", ensemble_accuracy)"
      ]
    },
    {
      "cell_type": "code",
      "execution_count": 22,
      "metadata": {
        "colab": {
          "base_uri": "https://localhost:8080/"
        },
        "id": "OZAv7Aq8vAtY",
        "outputId": "0407a6c5-6ebc-4f77-df9d-4f8f194f229b"
      },
      "outputs": [
        {
          "name": "stdout",
          "output_type": "stream",
          "text": [
            "              precision    recall  f1-score   support\n",
            "\n",
            "         0.0       0.81      0.86      0.83      2878\n",
            "         1.0       0.86      0.81      0.84      3122\n",
            "\n",
            "    accuracy                           0.83      6000\n",
            "   macro avg       0.83      0.83      0.83      6000\n",
            "weighted avg       0.83      0.83      0.83      6000\n",
            "\n"
          ]
        }
      ],
      "source": [
        "import sklearn\n",
        "print(sklearn.metrics.classification_report(np.array(ensemble_predictions).flatten(), np.array(y_test)))"
      ]
    },
    {
      "cell_type": "code",
      "execution_count": 23,
      "metadata": {
        "colab": {
          "base_uri": "https://localhost:8080/",
          "height": 472
        },
        "id": "5mG-ksCivlPq",
        "outputId": "0ee4d6fe-bc1f-4aa6-c19f-adb4b6f371ef"
      },
      "outputs": [
        {
          "data": {
            "image/png": "[encoded data removed]",
            "text/plain": [
              "<Figure size 640x480 with 1 Axes>"
            ]
          },
          "metadata": {},
          "output_type": "display_data"
        }
      ],
      "source": [
        "import sklearn\n",
        "import matplotlib.pyplot as plt\n",
        "from sklearn.metrics import roc_auc_score, roc_curve\n",
        "import matplotlib.pyplot as plt\n",
        "auc_score = roc_auc_score(y_test, ensemble_predictions)\n",
        "\n",
        "# Get the false positive rate (fpr) and true positive rate (tpr) for the AUC curve\n",
        "fpr, tpr, thresholds = roc_curve(y_test, ensemble_predictions)\n",
        "\n",
        "# Plot the AUC curve\n",
        "plt.plot(fpr, tpr, label='AUC = {:.3f}'.format(auc_score))\n",
        "plt.plot([0, 1], [0, 1], 'k--')  # Plotting the diagonal line\n",
        "plt.xlabel('False Positive Rate')\n",
        "plt.ylabel('True Positive Rate')\n",
        "plt.title('Receiver Operating Characteristic (ROC) Curve')\n",
        "plt.legend(loc='lower right')\n",
        "plt.show()"
      ]
    },
    {
      "cell_type": "code",
      "execution_count": null,
      "metadata": {
        "id": "WKXLy3KIv9xw"
      },
      "outputs": [],
      "source": []
    }
  ],
  "metadata": {
    "colab": {
      "provenance": []
    },
    "kernelspec": {
      "display_name": "Python 3",
      "name": "python3"
    },
    "language_info": {
      "name": "python"
    }
  },
  "nbformat": 4,
  "nbformat_minor": 0
}
